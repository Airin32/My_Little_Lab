{
 "cells": [
  {
   "cell_type": "code",
   "execution_count": 1,
   "metadata": {},
   "outputs": [],
   "source": [
    "import tensorflow as tf \n",
    "import keras \n"
   ]
  },
  {
   "cell_type": "code",
   "execution_count": 2,
   "metadata": {},
   "outputs": [],
   "source": [
    "from tensorflow.keras.preprocessing.text import Tokenizer\n",
    "from tensorflow.keras.preprocessing.sequence import pad_sequences\n",
    "import numpy as np "
   ]
  },
  {
   "cell_type": "code",
   "execution_count": 3,
   "metadata": {},
   "outputs": [],
   "source": [
    "class SelfAttention (keras.layers.Layer) :\n",
    "    def __init__ (self,d_k) :\n",
    "        super (SelfAttention , self).__init__()\n",
    "        self.__d_k= d_k \n",
    "    \n",
    "    def build (self,inputs) :\n",
    "        self.Wq = self.add_weight(shape=(inputs[-1],self.__d_k),initializer=\"random_normal\",trainable=True)\n",
    "        self.Wk = self.add_weight(shape=(inputs[-1],self.__d_k),initializer=\"random_normal\",trainable=True)\n",
    "        self.Wv = self.add_weight(shape=(inputs[-1],self.__d_k),initializer=\"random_normal\",trainable=True)\n",
    "\n",
    "    def call (self,x) :\n",
    "        Q = tf.matmul(self.Wq,x)\n",
    "        K = tf.matmul(self.Wk,x)\n",
    "        V = tf.matmul(self.Wv,x)\n",
    "\n",
    "        scores = tf.nn.softmax(tf.matmul(Q,tf.transpose(K,perm=[0,2,1])) / tf.math.sqrt(self.__d_k),axis=-1) \n",
    "        output = tf.matmul(scores,V)\n",
    "        return output"
   ]
  },
  {
   "cell_type": "code",
   "execution_count": 4,
   "metadata": {},
   "outputs": [],
   "source": [
    "class Text_Classifier (keras.Model) :\n",
    "    def __init__ (self,vocab_size,num_class,embedding_size,d_k) :\n",
    "        super (Text_Classifier,self).__init__()\n",
    "        self.embedding = keras.layers.Embedding(input_dim=vocab_size,output_dim=embedding_size)\n",
    "        self.Attention = SelfAttention(d_k)\n",
    "        self.Long_sort_Term_Memories = keras.layers.LSTM(32,return_sequences=True)\n",
    "        self.Dense = keras.layers.Dense(256,activation='relu')\n",
    "        self.outputs = keras.layers.Dense(num_class,activation='softmax')\n",
    "        self.Layer_Normal = keras.layers.LayerNormalization()\n",
    "        self.GlobalPooling1D = keras.layers.GlobalAveragePooling1D()\n",
    "    \n",
    "    def call (self,x) :\n",
    "        x = self.embedding(x)\n",
    "        x = self.Long_sort_Term_Memories(x)\n",
    "        x = self.Layer_Normal(x)\n",
    "        x = self.GlobalPooling1D(x)\n",
    "        x = self.Dense(x)\n",
    "        return self.outputs(x)"
   ]
  },
  {
   "cell_type": "code",
   "execution_count": 24,
   "metadata": {},
   "outputs": [],
   "source": [
    "vocab_size = 200\n",
    "d_k = 32\n",
    "num_class = 5\n",
    "Embbedding_size = 64\n",
    "models = Text_Classifier(vocab_size=vocab_size,num_class=num_class,embedding_size=Embbedding_size,d_k = d_k)"
   ]
  },
  {
   "cell_type": "code",
   "execution_count": 25,
   "metadata": {},
   "outputs": [
    {
     "name": "stderr",
     "output_type": "stream",
     "text": [
      "c:\\Users\\ASUS\\AppData\\Local\\Programs\\Python\\Python312\\Lib\\site-packages\\keras\\src\\layers\\layer.py:391: UserWarning: `build()` was called on layer 'text__classifier_5', however the layer does not have a `build()` method implemented and it looks like it has unbuilt state. This will cause the layer to be marked as built, despite not being actually built, which may cause failures down the line. Make sure to implement a proper `build()` method.\n",
      "  warnings.warn(\n"
     ]
    }
   ],
   "source": [
    "models.build(input_shape=(None,30))"
   ]
  },
  {
   "cell_type": "code",
   "execution_count": 27,
   "metadata": {},
   "outputs": [
    {
     "data": {
      "text/html": [
       "<pre style=\"white-space:pre;overflow-x:auto;line-height:normal;font-family:Menlo,'DejaVu Sans Mono',consolas,'Courier New',monospace\"><span style=\"font-weight: bold\">Model: \"text__classifier_5\"</span>\n",
       "</pre>\n"
      ],
      "text/plain": [
       "\u001b[1mModel: \"text__classifier_5\"\u001b[0m\n"
      ]
     },
     "metadata": {},
     "output_type": "display_data"
    },
    {
     "data": {
      "text/html": [
       "<pre style=\"white-space:pre;overflow-x:auto;line-height:normal;font-family:Menlo,'DejaVu Sans Mono',consolas,'Courier New',monospace\">┏━━━━━━━━━━━━━━━━━━━━━━━━━━━━━━━━━┳━━━━━━━━━━━━━━━━━━━━━━━━┳━━━━━━━━━━━━━━━┓\n",
       "┃<span style=\"font-weight: bold\"> Layer (type)                    </span>┃<span style=\"font-weight: bold\"> Output Shape           </span>┃<span style=\"font-weight: bold\">       Param # </span>┃\n",
       "┡━━━━━━━━━━━━━━━━━━━━━━━━━━━━━━━━━╇━━━━━━━━━━━━━━━━━━━━━━━━╇━━━━━━━━━━━━━━━┩\n",
       "│ embedding_5 (<span style=\"color: #0087ff; text-decoration-color: #0087ff\">Embedding</span>)         │ ?                      │   <span style=\"color: #00af00; text-decoration-color: #00af00\">0</span> (unbuilt) │\n",
       "├─────────────────────────────────┼────────────────────────┼───────────────┤\n",
       "│ self_attention_5                │ ?                      │   <span style=\"color: #00af00; text-decoration-color: #00af00\">0</span> (unbuilt) │\n",
       "│ (<span style=\"color: #0087ff; text-decoration-color: #0087ff\">SelfAttention</span>)                 │                        │               │\n",
       "├─────────────────────────────────┼────────────────────────┼───────────────┤\n",
       "│ lstm_5 (<span style=\"color: #0087ff; text-decoration-color: #0087ff\">LSTM</span>)                   │ ?                      │   <span style=\"color: #00af00; text-decoration-color: #00af00\">0</span> (unbuilt) │\n",
       "├─────────────────────────────────┼────────────────────────┼───────────────┤\n",
       "│ dense_10 (<span style=\"color: #0087ff; text-decoration-color: #0087ff\">Dense</span>)                │ ?                      │   <span style=\"color: #00af00; text-decoration-color: #00af00\">0</span> (unbuilt) │\n",
       "├─────────────────────────────────┼────────────────────────┼───────────────┤\n",
       "│ dense_11 (<span style=\"color: #0087ff; text-decoration-color: #0087ff\">Dense</span>)                │ ?                      │   <span style=\"color: #00af00; text-decoration-color: #00af00\">0</span> (unbuilt) │\n",
       "├─────────────────────────────────┼────────────────────────┼───────────────┤\n",
       "│ layer_normalization_3           │ ?                      │   <span style=\"color: #00af00; text-decoration-color: #00af00\">0</span> (unbuilt) │\n",
       "│ (<span style=\"color: #0087ff; text-decoration-color: #0087ff\">LayerNormalization</span>)            │                        │               │\n",
       "├─────────────────────────────────┼────────────────────────┼───────────────┤\n",
       "│ global_average_pooling1d_3      │ ?                      │             <span style=\"color: #00af00; text-decoration-color: #00af00\">0</span> │\n",
       "│ (<span style=\"color: #0087ff; text-decoration-color: #0087ff\">GlobalAveragePooling1D</span>)        │                        │               │\n",
       "└─────────────────────────────────┴────────────────────────┴───────────────┘\n",
       "</pre>\n"
      ],
      "text/plain": [
       "┏━━━━━━━━━━━━━━━━━━━━━━━━━━━━━━━━━┳━━━━━━━━━━━━━━━━━━━━━━━━┳━━━━━━━━━━━━━━━┓\n",
       "┃\u001b[1m \u001b[0m\u001b[1mLayer (type)                   \u001b[0m\u001b[1m \u001b[0m┃\u001b[1m \u001b[0m\u001b[1mOutput Shape          \u001b[0m\u001b[1m \u001b[0m┃\u001b[1m \u001b[0m\u001b[1m      Param #\u001b[0m\u001b[1m \u001b[0m┃\n",
       "┡━━━━━━━━━━━━━━━━━━━━━━━━━━━━━━━━━╇━━━━━━━━━━━━━━━━━━━━━━━━╇━━━━━━━━━━━━━━━┩\n",
       "│ embedding_5 (\u001b[38;5;33mEmbedding\u001b[0m)         │ ?                      │   \u001b[38;5;34m0\u001b[0m (unbuilt) │\n",
       "├─────────────────────────────────┼────────────────────────┼───────────────┤\n",
       "│ self_attention_5                │ ?                      │   \u001b[38;5;34m0\u001b[0m (unbuilt) │\n",
       "│ (\u001b[38;5;33mSelfAttention\u001b[0m)                 │                        │               │\n",
       "├─────────────────────────────────┼────────────────────────┼───────────────┤\n",
       "│ lstm_5 (\u001b[38;5;33mLSTM\u001b[0m)                   │ ?                      │   \u001b[38;5;34m0\u001b[0m (unbuilt) │\n",
       "├─────────────────────────────────┼────────────────────────┼───────────────┤\n",
       "│ dense_10 (\u001b[38;5;33mDense\u001b[0m)                │ ?                      │   \u001b[38;5;34m0\u001b[0m (unbuilt) │\n",
       "├─────────────────────────────────┼────────────────────────┼───────────────┤\n",
       "│ dense_11 (\u001b[38;5;33mDense\u001b[0m)                │ ?                      │   \u001b[38;5;34m0\u001b[0m (unbuilt) │\n",
       "├─────────────────────────────────┼────────────────────────┼───────────────┤\n",
       "│ layer_normalization_3           │ ?                      │   \u001b[38;5;34m0\u001b[0m (unbuilt) │\n",
       "│ (\u001b[38;5;33mLayerNormalization\u001b[0m)            │                        │               │\n",
       "├─────────────────────────────────┼────────────────────────┼───────────────┤\n",
       "│ global_average_pooling1d_3      │ ?                      │             \u001b[38;5;34m0\u001b[0m │\n",
       "│ (\u001b[38;5;33mGlobalAveragePooling1D\u001b[0m)        │                        │               │\n",
       "└─────────────────────────────────┴────────────────────────┴───────────────┘\n"
      ]
     },
     "metadata": {},
     "output_type": "display_data"
    },
    {
     "data": {
      "text/html": [
       "<pre style=\"white-space:pre;overflow-x:auto;line-height:normal;font-family:Menlo,'DejaVu Sans Mono',consolas,'Courier New',monospace\"><span style=\"font-weight: bold\"> Total params: </span><span style=\"color: #00af00; text-decoration-color: #00af00\">0</span> (0.00 B)\n",
       "</pre>\n"
      ],
      "text/plain": [
       "\u001b[1m Total params: \u001b[0m\u001b[38;5;34m0\u001b[0m (0.00 B)\n"
      ]
     },
     "metadata": {},
     "output_type": "display_data"
    },
    {
     "data": {
      "text/html": [
       "<pre style=\"white-space:pre;overflow-x:auto;line-height:normal;font-family:Menlo,'DejaVu Sans Mono',consolas,'Courier New',monospace\"><span style=\"font-weight: bold\"> Trainable params: </span><span style=\"color: #00af00; text-decoration-color: #00af00\">0</span> (0.00 B)\n",
       "</pre>\n"
      ],
      "text/plain": [
       "\u001b[1m Trainable params: \u001b[0m\u001b[38;5;34m0\u001b[0m (0.00 B)\n"
      ]
     },
     "metadata": {},
     "output_type": "display_data"
    },
    {
     "data": {
      "text/html": [
       "<pre style=\"white-space:pre;overflow-x:auto;line-height:normal;font-family:Menlo,'DejaVu Sans Mono',consolas,'Courier New',monospace\"><span style=\"font-weight: bold\"> Non-trainable params: </span><span style=\"color: #00af00; text-decoration-color: #00af00\">0</span> (0.00 B)\n",
       "</pre>\n"
      ],
      "text/plain": [
       "\u001b[1m Non-trainable params: \u001b[0m\u001b[38;5;34m0\u001b[0m (0.00 B)\n"
      ]
     },
     "metadata": {},
     "output_type": "display_data"
    }
   ],
   "source": [
    "models.summary()"
   ]
  },
  {
   "cell_type": "code",
   "execution_count": 10,
   "metadata": {},
   "outputs": [],
   "source": [
    "dataset = [\n",
    "    (\"Produk ini sangat bagus dan berkualitas!\", 1.0),\n",
    "    (\"Saya kecewa dengan layanan yang diberikan.\", 0.0),\n",
    "    (\"Hari ini cuacanya cukup mendung.\", 0.5),\n",
    "    (\"Pelayanan di restoran ini sangat ramah.\", 1.0),\n",
    "    (\"Film ini sangat membosankan dan tidak menarik.\", 0.0),\n",
    "    (\"Berita ini tidak terlalu menarik bagi saya.\", 0.5),\n",
    "    (\"Saya sangat menikmati makan di sini!\", 1.0),\n",
    "    (\"Laptop ini memiliki spesifikasi yang buruk.\", 0.0),\n",
    "    (\"Langit terlihat cerah hari ini.\", 0.5),\n",
    "    (\"Aplikasi ini sangat membantu dalam pekerjaan saya.\", 1.0),\n",
    "    (\"Saya tidak suka dengan kualitas produk ini.\", 0.0),\n",
    "    (\"Konser tadi malam sangat luar biasa!\", 1.0),\n",
    "    (\"Pemain itu mencetak gol spektakuler.\", 1.0),\n",
    "    (\"Saya tidak merekomendasikan restoran ini.\", 0.0),\n",
    "    (\"Smartphone ini memiliki fitur yang sangat canggih.\", 1.0),\n",
    "    (\"Saya merasa tidak puas dengan kecepatan internet.\", 0.0),\n",
    "    (\"Pertandingan tadi malam berlangsung sangat seru!\", 1.0),\n",
    "    (\"Acara televisi ini cukup menghibur.\", 1.0),\n",
    "    (\"Ponsel ini sering mengalami lag.\", 0.0),\n",
    "    (\"Saya suka desain mobil terbaru ini.\", 1.0),\n",
    "    (\"Makanannya terlalu asin untuk selera saya.\", 0.0),\n",
    "    (\"Layanan di hotel ini sangat memuaskan.\", 1.0),\n",
    "    (\"Saya merasa harga tiketnya terlalu mahal.\", 0.0),\n",
    "    (\"Pemandangan dari kamar hotel ini sangat indah.\", 1.0),\n",
    "    (\"Buku ini memberikan banyak wawasan baru.\", 1.0),\n",
    "    (\"Film ini tidak sesuai dengan ekspektasi saya.\", 0.0),\n",
    "    (\"Saya merasa netral terhadap perubahan ini.\", 0.5),\n",
    "    (\"Tempat wisata ini sangat direkomendasikan!\", 1.0),\n",
    "    (\"Saya tidak akan membeli produk ini lagi.\", 0.0),\n",
    "    (\"Toko ini memiliki banyak variasi produk.\", 1.0),\n",
    "    (\"Sistem operasinya sering mengalami crash.\", 0.0),\n",
    "    (\"Saya menikmati perjalanan dengan kereta cepat ini.\", 1.0),\n",
    "    (\"Makanan di sini biasa saja, tidak terlalu enak.\", 0.5),\n",
    "    (\"Game ini sangat adiktif dan menyenangkan!\", 1.0),\n",
    "    (\"Saya kecewa dengan ending film ini.\", 0.0),\n",
    "    (\"Cuaca hari ini cukup normal, tidak terlalu panas atau dingin.\", 0.5),\n",
    "    (\"Restoran ini memiliki harga yang terjangkau.\", 1.0),\n",
    "    (\"Saya tidak suka cara mereka menangani pelanggan.\", 0.0),\n",
    "    (\"Produk ini sesuai dengan deskripsi dan kualitasnya bagus.\", 1.0),\n",
    "    (\"Saya menunggu terlalu lama untuk mendapatkan pesanan saya.\", 0.0),\n",
    "    (\"Musiknya sangat menenangkan.\", 1.0),\n",
    "    (\"Saya berharap fitur ini bisa lebih baik lagi.\", 0.5),\n",
    "    (\"Laptop ini cepat panas dan baterainya boros.\", 0.0),\n",
    "    (\"Saya merasa sangat puas dengan pengalaman berbelanja di sini.\", 1.0),\n",
    "    (\"Terlalu banyak iklan dalam aplikasi ini.\", 0.0),\n",
    "    (\"Film ini memberikan pelajaran hidup yang berharga.\", 1.0),\n",
    "    (\"Saya tidak mengerti jalan cerita film ini.\", 0.0),\n",
    "    (\"Pelayanan di bank ini sangat cepat dan profesional.\", 1.0),\n",
    "    (\"Saya tidak mendapatkan apa yang saya harapkan dari produk ini.\", 0.0),\n",
    "    (\"Pemandangan di gunung ini luar biasa!\", 1.0),\n",
    "    (\"Taman ini cukup nyaman untuk bersantai.\", 0.5),\n",
    "    (\"Saya merasa aplikasi ini terlalu sulit digunakan.\", 0.0),\n",
    "    (\"Saya menikmati waktu saya di taman hiburan ini.\", 1.0),\n",
    "    (\"Sinyal internet di daerah ini sangat buruk.\", 0.0),\n",
    "    (\"Kopi ini memiliki rasa yang unik dan enak.\", 1.0),\n",
    "    (\"Saya berharap pengiriman bisa lebih cepat.\", 0.5),\n",
    "    (\"Saya tidak menyukai interaksi antar karakter dalam drama ini.\", 0.0),\n",
    "    (\"Perjalanan dengan kapal pesiar ini sangat menyenangkan!\", 1.0),\n",
    "    (\"Saya mengalami masalah saat mencoba menghubungkan perangkat ini.\", 0.0),\n",
    "    (\"Saya merasa tidak ada yang spesial dengan produk ini.\", 0.5),\n",
    "]\n"
   ]
  },
  {
   "cell_type": "code",
   "execution_count": 46,
   "metadata": {},
   "outputs": [],
   "source": [
    "x_train = list()\n",
    "y_train = list() \n",
    "for i in range(len(dataset)) :\n",
    "    x_train.append(dataset[i][0])\n",
    "    y_train.append(dataset[i][1])"
   ]
  },
  {
   "cell_type": "code",
   "execution_count": 20,
   "metadata": {},
   "outputs": [],
   "source": [
    "tokenizers = Tokenizer()"
   ]
  },
  {
   "cell_type": "code",
   "execution_count": 31,
   "metadata": {},
   "outputs": [],
   "source": [
    "tokenizers.fit_on_texts(x_train)"
   ]
  },
  {
   "cell_type": "code",
   "execution_count": 47,
   "metadata": {},
   "outputs": [],
   "source": [
    "x_train = tokenizers.texts_to_sequences(x_train)\n",
    "x_train = pad_sequences(x_train,maxlen=10,padding='post')"
   ]
  },
  {
   "cell_type": "code",
   "execution_count": 49,
   "metadata": {},
   "outputs": [],
   "source": [
    "y_train = np.array(y_train).reshape(-1,1)"
   ]
  },
  {
   "cell_type": "code",
   "execution_count": 51,
   "metadata": {},
   "outputs": [],
   "source": [
    "vocab = len(tokenizers.index_word) + 1 "
   ]
  },
  {
   "cell_type": "code",
   "execution_count": null,
   "metadata": {},
   "outputs": [
    {
     "data": {
      "text/plain": [
       "'kontol'"
      ]
     },
     "execution_count": 79,
     "metadata": {},
     "output_type": "execute_result"
    }
   ],
   "source": [
    "inputs_models = keras.Input(shape=(1,10))\n",
    "embedding = keras.layers.Embedding(input_dim=vocab,output_dim=32)(inputs_models)\n",
    "query = keras.layers.Dense(32)(embedding)\n",
    "keys = keras.layers.Dense(32)(embedding)\n",
    "values = keras.layer\n",
    "Attention_m = keras.layers.Attention()"
   ]
  },
  {
   "cell_type": "code",
   "execution_count": 73,
   "metadata": {},
   "outputs": [
    {
     "data": {
      "text/html": [
       "<pre style=\"white-space:pre;overflow-x:auto;line-height:normal;font-family:Menlo,'DejaVu Sans Mono',consolas,'Courier New',monospace\"><span style=\"font-weight: bold\">Model: \"functional\"</span>\n",
       "</pre>\n"
      ],
      "text/plain": [
       "\u001b[1mModel: \"functional\"\u001b[0m\n"
      ]
     },
     "metadata": {},
     "output_type": "display_data"
    },
    {
     "data": {
      "text/html": [
       "<pre style=\"white-space:pre;overflow-x:auto;line-height:normal;font-family:Menlo,'DejaVu Sans Mono',consolas,'Courier New',monospace\">┏━━━━━━━━━━━━━━━━━━━━━━━━━━━━━━━━━┳━━━━━━━━━━━━━━━━━━━━━━━━┳━━━━━━━━━━━━━━━┓\n",
       "┃<span style=\"font-weight: bold\"> Layer (type)                    </span>┃<span style=\"font-weight: bold\"> Output Shape           </span>┃<span style=\"font-weight: bold\">       Param # </span>┃\n",
       "┡━━━━━━━━━━━━━━━━━━━━━━━━━━━━━━━━━╇━━━━━━━━━━━━━━━━━━━━━━━━╇━━━━━━━━━━━━━━━┩\n",
       "│ input_layer_21 (<span style=\"color: #0087ff; text-decoration-color: #0087ff\">InputLayer</span>)     │ (<span style=\"color: #00d7ff; text-decoration-color: #00d7ff\">None</span>, <span style=\"color: #00af00; text-decoration-color: #00af00\">10</span>)             │             <span style=\"color: #00af00; text-decoration-color: #00af00\">0</span> │\n",
       "├─────────────────────────────────┼────────────────────────┼───────────────┤\n",
       "│ embedding_21 (<span style=\"color: #0087ff; text-decoration-color: #0087ff\">Embedding</span>)        │ (<span style=\"color: #00d7ff; text-decoration-color: #00d7ff\">None</span>, <span style=\"color: #00af00; text-decoration-color: #00af00\">10</span>, <span style=\"color: #00af00; text-decoration-color: #00af00\">32</span>)         │       <span style=\"color: #00af00; text-decoration-color: #00af00\">320,000</span> │\n",
       "├─────────────────────────────────┼────────────────────────┼───────────────┤\n",
       "│ lstm_5 (<span style=\"color: #0087ff; text-decoration-color: #0087ff\">LSTM</span>)                   │ (<span style=\"color: #00d7ff; text-decoration-color: #00d7ff\">None</span>, <span style=\"color: #00af00; text-decoration-color: #00af00\">10</span>, <span style=\"color: #00af00; text-decoration-color: #00af00\">16</span>)         │         <span style=\"color: #00af00; text-decoration-color: #00af00\">3,136</span> │\n",
       "├─────────────────────────────────┼────────────────────────┼───────────────┤\n",
       "│ layer_normalization_2           │ (<span style=\"color: #00d7ff; text-decoration-color: #00d7ff\">None</span>, <span style=\"color: #00af00; text-decoration-color: #00af00\">10</span>, <span style=\"color: #00af00; text-decoration-color: #00af00\">16</span>)         │            <span style=\"color: #00af00; text-decoration-color: #00af00\">32</span> │\n",
       "│ (<span style=\"color: #0087ff; text-decoration-color: #0087ff\">LayerNormalization</span>)            │                        │               │\n",
       "├─────────────────────────────────┼────────────────────────┼───────────────┤\n",
       "│ dense_60 (<span style=\"color: #0087ff; text-decoration-color: #0087ff\">Dense</span>)                │ (<span style=\"color: #00d7ff; text-decoration-color: #00d7ff\">None</span>, <span style=\"color: #00af00; text-decoration-color: #00af00\">10</span>, <span style=\"color: #00af00; text-decoration-color: #00af00\">32</span>)         │           <span style=\"color: #00af00; text-decoration-color: #00af00\">544</span> │\n",
       "├─────────────────────────────────┼────────────────────────┼───────────────┤\n",
       "│ dense_61 (<span style=\"color: #0087ff; text-decoration-color: #0087ff\">Dense</span>)                │ (<span style=\"color: #00d7ff; text-decoration-color: #00d7ff\">None</span>, <span style=\"color: #00af00; text-decoration-color: #00af00\">10</span>, <span style=\"color: #00af00; text-decoration-color: #00af00\">16</span>)         │           <span style=\"color: #00af00; text-decoration-color: #00af00\">528</span> │\n",
       "├─────────────────────────────────┼────────────────────────┼───────────────┤\n",
       "│ dense_62 (<span style=\"color: #0087ff; text-decoration-color: #0087ff\">Dense</span>)                │ (<span style=\"color: #00d7ff; text-decoration-color: #00d7ff\">None</span>, <span style=\"color: #00af00; text-decoration-color: #00af00\">10</span>, <span style=\"color: #00af00; text-decoration-color: #00af00\">1</span>)          │            <span style=\"color: #00af00; text-decoration-color: #00af00\">17</span> │\n",
       "└─────────────────────────────────┴────────────────────────┴───────────────┘\n",
       "</pre>\n"
      ],
      "text/plain": [
       "┏━━━━━━━━━━━━━━━━━━━━━━━━━━━━━━━━━┳━━━━━━━━━━━━━━━━━━━━━━━━┳━━━━━━━━━━━━━━━┓\n",
       "┃\u001b[1m \u001b[0m\u001b[1mLayer (type)                   \u001b[0m\u001b[1m \u001b[0m┃\u001b[1m \u001b[0m\u001b[1mOutput Shape          \u001b[0m\u001b[1m \u001b[0m┃\u001b[1m \u001b[0m\u001b[1m      Param #\u001b[0m\u001b[1m \u001b[0m┃\n",
       "┡━━━━━━━━━━━━━━━━━━━━━━━━━━━━━━━━━╇━━━━━━━━━━━━━━━━━━━━━━━━╇━━━━━━━━━━━━━━━┩\n",
       "│ input_layer_21 (\u001b[38;5;33mInputLayer\u001b[0m)     │ (\u001b[38;5;45mNone\u001b[0m, \u001b[38;5;34m10\u001b[0m)             │             \u001b[38;5;34m0\u001b[0m │\n",
       "├─────────────────────────────────┼────────────────────────┼───────────────┤\n",
       "│ embedding_21 (\u001b[38;5;33mEmbedding\u001b[0m)        │ (\u001b[38;5;45mNone\u001b[0m, \u001b[38;5;34m10\u001b[0m, \u001b[38;5;34m32\u001b[0m)         │       \u001b[38;5;34m320,000\u001b[0m │\n",
       "├─────────────────────────────────┼────────────────────────┼───────────────┤\n",
       "│ lstm_5 (\u001b[38;5;33mLSTM\u001b[0m)                   │ (\u001b[38;5;45mNone\u001b[0m, \u001b[38;5;34m10\u001b[0m, \u001b[38;5;34m16\u001b[0m)         │         \u001b[38;5;34m3,136\u001b[0m │\n",
       "├─────────────────────────────────┼────────────────────────┼───────────────┤\n",
       "│ layer_normalization_2           │ (\u001b[38;5;45mNone\u001b[0m, \u001b[38;5;34m10\u001b[0m, \u001b[38;5;34m16\u001b[0m)         │            \u001b[38;5;34m32\u001b[0m │\n",
       "│ (\u001b[38;5;33mLayerNormalization\u001b[0m)            │                        │               │\n",
       "├─────────────────────────────────┼────────────────────────┼───────────────┤\n",
       "│ dense_60 (\u001b[38;5;33mDense\u001b[0m)                │ (\u001b[38;5;45mNone\u001b[0m, \u001b[38;5;34m10\u001b[0m, \u001b[38;5;34m32\u001b[0m)         │           \u001b[38;5;34m544\u001b[0m │\n",
       "├─────────────────────────────────┼────────────────────────┼───────────────┤\n",
       "│ dense_61 (\u001b[38;5;33mDense\u001b[0m)                │ (\u001b[38;5;45mNone\u001b[0m, \u001b[38;5;34m10\u001b[0m, \u001b[38;5;34m16\u001b[0m)         │           \u001b[38;5;34m528\u001b[0m │\n",
       "├─────────────────────────────────┼────────────────────────┼───────────────┤\n",
       "│ dense_62 (\u001b[38;5;33mDense\u001b[0m)                │ (\u001b[38;5;45mNone\u001b[0m, \u001b[38;5;34m10\u001b[0m, \u001b[38;5;34m1\u001b[0m)          │            \u001b[38;5;34m17\u001b[0m │\n",
       "└─────────────────────────────────┴────────────────────────┴───────────────┘\n"
      ]
     },
     "metadata": {},
     "output_type": "display_data"
    },
    {
     "data": {
      "text/html": [
       "<pre style=\"white-space:pre;overflow-x:auto;line-height:normal;font-family:Menlo,'DejaVu Sans Mono',consolas,'Courier New',monospace\"><span style=\"font-weight: bold\"> Total params: </span><span style=\"color: #00af00; text-decoration-color: #00af00\">324,257</span> (1.24 MB)\n",
       "</pre>\n"
      ],
      "text/plain": [
       "\u001b[1m Total params: \u001b[0m\u001b[38;5;34m324,257\u001b[0m (1.24 MB)\n"
      ]
     },
     "metadata": {},
     "output_type": "display_data"
    },
    {
     "data": {
      "text/html": [
       "<pre style=\"white-space:pre;overflow-x:auto;line-height:normal;font-family:Menlo,'DejaVu Sans Mono',consolas,'Courier New',monospace\"><span style=\"font-weight: bold\"> Trainable params: </span><span style=\"color: #00af00; text-decoration-color: #00af00\">324,257</span> (1.24 MB)\n",
       "</pre>\n"
      ],
      "text/plain": [
       "\u001b[1m Trainable params: \u001b[0m\u001b[38;5;34m324,257\u001b[0m (1.24 MB)\n"
      ]
     },
     "metadata": {},
     "output_type": "display_data"
    },
    {
     "data": {
      "text/html": [
       "<pre style=\"white-space:pre;overflow-x:auto;line-height:normal;font-family:Menlo,'DejaVu Sans Mono',consolas,'Courier New',monospace\"><span style=\"font-weight: bold\"> Non-trainable params: </span><span style=\"color: #00af00; text-decoration-color: #00af00\">0</span> (0.00 B)\n",
       "</pre>\n"
      ],
      "text/plain": [
       "\u001b[1m Non-trainable params: \u001b[0m\u001b[38;5;34m0\u001b[0m (0.00 B)\n"
      ]
     },
     "metadata": {},
     "output_type": "display_data"
    }
   ],
   "source": [
    "import tensorflow as tf\n",
    "from tensorflow import keras\n",
    "\n",
    "# Input Shape (batch_size, 10)\n",
    "inputs_models = keras.Input(shape=(10,))\n",
    "\n",
    "# Embedding Layer\n",
    "embedding_models = keras.layers.Embedding(input_dim=10000, output_dim=32)(inputs_models)\n",
    "\n",
    "# Query, Key, Value untuk Self-Attention\n",
    "query = keras.layers.Dense(32)(embedding_models)\n",
    "keys = keras.layers.Dense(32)(embedding_models)\n",
    "values = keras.layers.Dense(32)(embedding_models)\n",
    "\n",
    "# Self-Attention (Output 3D: (batch_size, seq_len, features))\n",
    "Attention_models = keras.layers.Attention()([query, keys, values])\n",
    "\n",
    "# Gunakan GlobalAveragePooling1D karena output Attention masih 3D\n",
    "Pooling_models = keras.layers.GlobalAveragePooling1D()(Attention_models)\n",
    "\n",
    "# LSTM Layer (Hapus GlobalPooling di sini karena LSTM butuh 3D input)\n",
    "Lstm_models = keras.layers.LSTM(16, return_sequences=True)(embedding_models)\n",
    "\n",
    "# Layer Normalization\n",
    "Layer_normal = keras.layers.LayerNormalization()(Lstm_models)\n",
    "\n",
    "# Fully Connected Layers\n",
    "Dense_models = keras.layers.Dense(32, activation='relu')(Layer_normal)\n",
    "Dense2_models = keras.layers.Dense(16, activation='relu')(Dense_models)\n",
    "\n",
    "# Output Layer (Sigmoid untuk Binary Classification)\n",
    "outputs = keras.layers.Dense(1, activation='sigmoid')(Dense2_models)\n",
    "\n",
    "# Compile Model\n",
    "model = keras.Model(inputs=inputs_models, outputs=outputs)\n",
    "model.compile(optimizer='adam', loss='binary_crossentropy', metrics=['accuracy'])\n",
    "\n",
    "# Summary Model\n",
    "model.summary()\n",
    "\n"
   ]
  }
 ],
 "metadata": {
  "kernelspec": {
   "display_name": "Python 3",
   "language": "python",
   "name": "python3"
  },
  "language_info": {
   "codemirror_mode": {
    "name": "ipython",
    "version": 3
   },
   "file_extension": ".py",
   "mimetype": "text/x-python",
   "name": "python",
   "nbconvert_exporter": "python",
   "pygments_lexer": "ipython3",
   "version": "3.12.7"
  }
 },
 "nbformat": 4,
 "nbformat_minor": 2
}
