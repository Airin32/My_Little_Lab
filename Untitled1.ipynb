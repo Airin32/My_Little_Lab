{
  "nbformat": 4,
  "nbformat_minor": 0,
  "metadata": {
    "colab": {
      "provenance": []
    },
    "kernelspec": {
      "name": "python3",
      "display_name": "Python 3"
    },
    "language_info": {
      "name": "python"
    }
  },
  "cells": [
    {
      "cell_type": "code",
      "execution_count": 1,
      "metadata": {
        "id": "eXqk62obgSxe"
      },
      "outputs": [],
      "source": [
        "import tensorflow as tf"
      ]
    },
    {
      "cell_type": "code",
      "source": [
        "import sklearn as ml"
      ],
      "metadata": {
        "id": "Ajws9fWSjhAF"
      },
      "execution_count": 2,
      "outputs": []
    },
    {
      "cell_type": "code",
      "source": [
        "from tensorflow import keras\n",
        "import json\n",
        "import numpy as np\n",
        "import pandas as pd"
      ],
      "metadata": {
        "id": "i0hIsuJyjlo7"
      },
      "execution_count": 3,
      "outputs": []
    },
    {
      "cell_type": "code",
      "source": [
        "import math"
      ],
      "metadata": {
        "id": "Gh5ZrbvXmNdU"
      },
      "execution_count": 4,
      "outputs": []
    },
    {
      "cell_type": "code",
      "source": [
        "class Positional_Encoding (keras.layers.Layer) :\n",
        "  def __init__ (self,d_model,max_len=5000) :\n",
        "    super (Positional_Encoding,self).__init__()\n",
        "    pe = np.zeros((max_len,d_model))\n",
        "    position = np.arange(0,max_len)[:,np.newaxis]\n",
        "    div_term = np.exp(np.arange(0,d_model,2)) * (-math.log(10000.0) / d_model)\n",
        "    pe [:,0::2] = np.sin(position * div_term)\n",
        "    pe [:,1::2] = np.cos(position * div_term)\n",
        "    self.pe = tf.constant(pe[np.newaxis, ...],dtype=tf.float32)\n",
        "\n",
        "  def call(self,x) :\n",
        "    return x + self.pe[:,:tf.shape(x)[1], :]"
      ],
      "metadata": {
        "id": "fcx6Qc6xjzUr"
      },
      "execution_count": 5,
      "outputs": []
    },
    {
      "cell_type": "code",
      "source": [
        "class Encoder (keras.layers.Layer) :\n",
        "  def __init__ (self,input_dim,d_model,ffn,num_class,num_heads) :\n",
        "    super(Encoder,self).__init__()\n",
        "    self.Embedding = keras.layers.Embedding(input_dim=input_dim,output_dim=d_model)\n",
        "    self.Pos_encoder = Positional_Encoding(d_model=d_model,max_len=500)\n",
        "    self.WQ = keras.layers.Dense(d_model)\n",
        "    self.WK = keras.layers.Dense(d_model)\n",
        "    self.Wv = keras.layers.Dense(d_model)\n",
        "    self.k_dimention = d_model // num_heads\n",
        "    self.MultiHeadAttention = keras.layers.MultiHeadAttention(num_heads=num_heads,key_dim=self.k_dimention)\n",
        "    self.feed_fordwar = keras.Sequential([\n",
        "        keras.layers.Dense(ffn,activation='relu'),\n",
        "        keras.layers.Dense(d_model)\n",
        "    ])\n",
        "    self.Normal1 = keras.layers.LayerNormalization()\n",
        "    self.Normal2 = keras.layers.LayerNormalization()\n",
        "    self.outputs_layers = keras.layers.Dense(num_class,activation='softmax')\n",
        "\n",
        "  def call (self,x) :\n",
        "    x = self.Embedding(x)\n",
        "    x = self.Pos_encoder(x)\n",
        "    Query = self.WQ(x)\n",
        "    Keys = self.WK(x)\n",
        "    Values = self.Wv(x)\n",
        "    attention = self.MultiHeadAttention(x,x,x)\n",
        "    x = self.Normal1(x + attention)\n",
        "    ffn = self.feed_fordwar(x)\n",
        "    x = self.Normal2(x + ffn)\n",
        "    return x"
      ],
      "metadata": {
        "id": "sBFL14oKm9TN"
      },
      "execution_count": 6,
      "outputs": []
    },
    {
      "cell_type": "code",
      "source": [
        "model_tester = Encoder(input_dim=1000,d_model=256,ffn=256,num_class=100,num_heads=8)"
      ],
      "metadata": {
        "id": "mV27mnJRrBps"
      },
      "execution_count": 7,
      "outputs": []
    },
    {
      "cell_type": "code",
      "source": [
        "def make_random () :\n",
        "  return [np.random.randint(0,100) for i in range(500)]"
      ],
      "metadata": {
        "id": "23lAQi1mrmrU"
      },
      "execution_count": 8,
      "outputs": []
    },
    {
      "cell_type": "code",
      "source": [
        "x = np.array([make_random() for _ in range(1000)])"
      ],
      "metadata": {
        "id": "9SdlnUeMr43l"
      },
      "execution_count": 9,
      "outputs": []
    },
    {
      "cell_type": "code",
      "source": [
        "model_tester(x)"
      ],
      "metadata": {
        "colab": {
          "base_uri": "https://localhost:8080/"
        },
        "id": "AU9YCMJIr97b",
        "outputId": "a37a27a0-cd4b-4149-9fa9-8f8cc79a7bcf"
      },
      "execution_count": null,
      "outputs": [
        {
          "output_type": "stream",
          "name": "stderr",
          "text": [
            "/usr/local/lib/python3.11/dist-packages/keras/src/layers/layer.py:393: UserWarning: `build()` was called on layer 'encoder', however the layer does not have a `build()` method implemented and it looks like it has unbuilt state. This will cause the layer to be marked as built, despite not being actually built, which may cause failures down the line. Make sure to implement a proper `build()` method.\n",
            "  warnings.warn(\n"
          ]
        }
      ]
    }
  ]
}