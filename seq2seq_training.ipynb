{
 "cells": [
  {
   "cell_type": "code",
   "execution_count": 1,
   "metadata": {},
   "outputs": [],
   "source": [
    "import tensorflow as tf\n",
    "import keras"
   ]
  },
  {
   "cell_type": "code",
   "execution_count": 2,
   "metadata": {},
   "outputs": [],
   "source": [
    "from tensorflow.keras.preprocessing.text import Tokenizer\n",
    "from tensorflow.keras.preprocessing.sequence import pad_sequences"
   ]
  },
  {
   "cell_type": "code",
   "execution_count": 3,
   "metadata": {},
   "outputs": [],
   "source": [
    "from keras.layers import Dense,LSTM\n",
    "import numpy as np \n",
    "import json"
   ]
  },
  {
   "cell_type": "code",
   "execution_count": 4,
   "metadata": {},
   "outputs": [],
   "source": [
    "with open ('dataset_seq.json','r') as file:\n",
    "    dataset=json.load(file)"
   ]
  },
  {
   "cell_type": "code",
   "execution_count": 5,
   "metadata": {},
   "outputs": [
    {
     "data": {
      "text/plain": [
       "[{'question': 'Eh, udah makan belum?',\n",
       "  'answer': 'Belum, lagi bingung mau makan apa. Ada ide?'},\n",
       " {'question': 'Gimana film yang kemarin kamu tonton?',\n",
       "  'answer': 'Seru sih, ceritanya nggak ketebak. Tapi ending-nya agak gantung.'},\n",
       " {'question': 'Kamu suka kopi apa teh?',\n",
       "  'answer': 'Kopi dong, tapi harus yang nggak terlalu pahit.'},\n",
       " {'question': 'Lagi dengerin lagu apa sekarang?',\n",
       "  'answer': 'Lagi suka banget sama lagunya Coldplay yang baru. Kamu?'},\n",
       " {'question': 'Udah ngerjain tugas kelompok belum?',\n",
       "  'answer': 'Belum, kayaknya bakal aku selesain besok deh. Deadline-nya kapan sih?'},\n",
       " {'question': 'Main game apa sekarang?',\n",
       "  'answer': 'Lagi asik main Genshin Impact. Kamu main juga nggak?'},\n",
       " {'question': 'Weekend ini mau kemana?',\n",
       "  'answer': 'Belum ada rencana. Kalau kamu ngajak, aku ikut!'},\n",
       " {'question': 'Kamu suka kucing atau anjing?',\n",
       "  'answer': 'Dua-duanya sih, tapi kucing lebih lucu buat dipelihara.'},\n",
       " {'question': 'Pernah coba masak sendiri?',\n",
       "  'answer': 'Iya, tapi hasilnya ancur total, hahaha!'},\n",
       " {'question': 'Apa buku terakhir yang kamu baca?',\n",
       "  'answer': 'Buku motivasi, tapi aku lupa judulnya. Banyak hal menarik sih di dalamnya.'},\n",
       " {'question': 'Ada rekomendasi serial bagus nggak?',\n",
       "  'answer': \"Coba tonton 'The Office', lucu banget buat hiburan!\"},\n",
       " {'question': 'Lagi sibuk apa sekarang?',\n",
       "  'answer': 'Nggak banyak sih, cuma nyelesain kerjaan kantor. Kamu gimana?'},\n",
       " {'question': 'Kamu percaya zodiak nggak?',\n",
       "  'answer': 'Kadang percaya, kadang enggak. Seru aja buat dibaca.'},\n",
       " {'question': 'Kalau diajak hiking, mau nggak?',\n",
       "  'answer': 'Mau banget! Udah lama nggak jalan-jalan ke gunung.'},\n",
       " {'question': 'Lihat video lucu tadi di grup?',\n",
       "  'answer': 'Iya! Gokil banget, nggak berhenti ketawa tadi.'},\n",
       " {'question': 'Kamu suka pedas nggak?',\n",
       "  'answer': 'Suka, tapi level pedasnya yang wajar aja, ya.'},\n",
       " {'question': 'Pernah nonton konser musik?',\n",
       "  'answer': 'Pernah dong, terakhir kali nonton konsernya Sheila On 7. Seru banget!'},\n",
       " {'question': 'Kalau dikasih libur panjang, mau ngapain?',\n",
       "  'answer': 'Pasti jalan-jalan keluar kota atau tidur seharian di rumah, hahaha!'},\n",
       " {'question': 'Lagi cari apa di toko online?',\n",
       "  'answer': 'Cuma lihat-lihat barang diskonan. Lagi hemat soalnya.'},\n",
       " {'question': 'Menurutmu makanan paling aneh yang pernah kamu coba?',\n",
       "  'answer': 'Duren sama sambal. Ternyata nggak seburuk yang aku bayangin.'},\n",
       " {'question': 'Kenapa sih kamu suka banget sama drama Korea?',\n",
       "  'answer': 'Cerita dan karakternya tuh relate banget. Ditambah soundtrack-nya juga bagus!'},\n",
       " {'question': 'Kalau kamu lagi stres, biasanya ngapain?',\n",
       "  'answer': 'Main game atau dengerin musik biar otak santai dulu.'},\n",
       " {'question': 'Pernah belajar bahasa asing selain Inggris?',\n",
       "  'answer': 'Pernah coba belajar Jepang, tapi cuma hafal beberapa kata aja.'},\n",
       " {'question': 'Kamu percaya sama teori konspirasi nggak?',\n",
       "  'answer': 'Kadang iya, kalau buktinya cukup masuk akal. Tapi nggak mau percaya buta juga.'},\n",
       " {'question': 'Apa makanan favoritmu waktu kecil?',\n",
       "  'answer': 'Pisang goreng, terutama yang buatan nenek. Rasanya nggak ada yang ngalahin!'},\n",
       " {'question': 'Kamu suka baca komik apa novel?',\n",
       "  'answer': 'Komik sih, lebih gampang dicerna dan gambarnya keren-keren.'},\n",
       " {'question': 'Kalau lagi hujan, suka ngapain?',\n",
       "  'answer': 'Tidur sambil denger suara hujan. Tenang banget rasanya.'},\n",
       " {'question': 'Punya hobi aneh nggak?',\n",
       "  'answer': 'Mungkin ngumpulin kotak bekas makanan, hahaha. Entah kenapa kayaknya unik aja.'},\n",
       " {'question': 'Pernah ngalamin kejadian memalukan di depan umum?',\n",
       "  'answer': 'Pernah banget, waktu salah naik bus dan baru sadar setelah jauh!'},\n",
       " {'question': 'Kamu lebih suka liburan ke pantai atau gunung?',\n",
       "  'answer': 'Pantai sih, karena aku nggak kuat jalan jauh kalau ke gunung.'},\n",
       " {'question': 'Kalau bisa belajar satu keterampilan baru, mau belajar apa?',\n",
       "  'answer': 'Mau belajar main gitar biar bisa bikin lagu sendiri.'},\n",
       " {'question': 'Apa film komedi yang bikin kamu ketawa sampai sakit perut?',\n",
       "  'answer': \"Film 'Mr. Bean' sih nggak pernah gagal bikin aku ketawa!\"},\n",
       " {'question': 'Pernah punya hewan peliharaan?',\n",
       "  'answer': 'Pernah, dulu aku punya kura-kura kecil. Tapi sekarang udah nggak ada.'},\n",
       " {'question': 'Kamu suka olahraga apa?',\n",
       "  'answer': 'Basket! Walaupun nggak jago, tapi seru banget mainnya.'},\n",
       " {'question': 'Apa cita-citamu waktu kecil?',\n",
       "  'answer': 'Mau jadi astronot, soalnya waktu itu aku suka banget lihat bintang.'},\n",
       " {'question': 'Pernah masak sesuatu yang gagal total?',\n",
       "  'answer': 'Pernah! Waktu bikin kue, jadinya malah gosong semua, hahaha.'},\n",
       " {'question': 'Kamu lebih suka kerja sendiri atau kerja tim?',\n",
       "  'answer': 'Kerja tim sih, soalnya bisa tukar ide dan nggak terasa berat.'},\n",
       " {'question': 'Apa tempat yang pengen banget kamu kunjungi?',\n",
       "  'answer': 'Jepang! Aku penasaran sama budaya dan makanannya.'},\n",
       " {'question': 'Kamu pernah nonton konser musik secara live?',\n",
       "  'answer': 'Pernah, waktu itu nonton konser band lokal. Seru banget!'},\n",
       " {'question': 'Kamu percaya nggak kalau alien itu ada?',\n",
       "  'answer': 'Percaya! Alam semesta kan luas banget, masa cuma kita yang ada?'},\n",
       " {'question': 'Kalau nggak sibuk, kamu biasanya ngapain?',\n",
       "  'answer': 'Cuma rebahan sambil scroll media sosial atau nonton film.'},\n",
       " {'question': 'Menurutmu makanan paling aneh yang pernah kamu coba?',\n",
       "  'answer': 'Kalajengking goreng. Awalnya takut, tapi ternyata rasanya oke juga!'},\n",
       " {'question': 'Apa lagu yang bikin kamu semangat?',\n",
       "  'answer': \"Lagu 'Eye of the Tiger'. Langsung berasa siap menghadapi apa aja!\"},\n",
       " {'question': 'Pernah gagal total pas coba sesuatu?',\n",
       "  'answer': 'Pernah, waktu belajar nyetir mobil pertama kali. Malah hampir nabrak.'},\n",
       " {'question': 'Kalau punya superpower, kamu mau punya kekuatan apa?',\n",
       "  'answer': 'Teleportasi! Biar bisa jalan-jalan tanpa ribet.'},\n",
       " {'question': 'Eh, kemarin kok nggak jadi nongkrong?',\n",
       "  'answer': 'Maaf banget, tiba-tiba sakit perut. Beneran nggak enak badan.'},\n",
       " {'question': 'Menurutmu, HP murah tapi bagus itu ada nggak?',\n",
       "  'answer': 'Ada kok, banyak sekarang. Coba cari review dulu di YouTube.'},\n",
       " {'question': 'Kamu percaya nggak kalau semua orang punya jodoh?',\n",
       "  'answer': 'Percaya sih, tapi kadang ya nunggu jodoh tuh bikin capek juga, hahaha.'},\n",
       " {'question': 'Kalau disuruh makan cuma satu makanan selamanya, kamu pilih apa?',\n",
       "  'answer': 'Pizza aja deh, topping-nya kan bisa diganti-ganti.'},\n",
       " {'question': 'Lagi galau kenapa, kok diam aja?',\n",
       "  'answer': 'Nggak tau, cuma kayak overthinking aja soal masa depan.'},\n",
       " {'question': 'Kamu suka nonton kartun waktu kecil?',\n",
       "  'answer': 'Banget! Dulu tiap Minggu pagi pasti nungguin kartun favorit di TV.'},\n",
       " {'question': 'Menurutmu, kerja remote enak nggak?',\n",
       "  'answer': 'Enak sih, tapi kadang jadi susah bedain waktu kerja sama waktu istirahat.'},\n",
       " {'question': 'Kalau aku ulang tahun, mau kasih aku hadiah apa?',\n",
       "  'answer': 'Mungkin sesuatu yang personal, kayak scrapbook atau barang yang kamu suka.'},\n",
       " {'question': 'Eh, kamu tahu nggak restoran baru di ujung jalan?',\n",
       "  'answer': 'Iya, katanya makanannya enak, tapi harganya lumayan mahal.'},\n",
       " {'question': 'Pernah mimpi yang bikin ketawa pas bangun?',\n",
       "  'answer': 'Pernah, mimpi aku jadi super hero tapi gagal nolong orang, hahaha.'},\n",
       " {'question': 'Menurutmu lebih seru liburan sama teman atau keluarga?',\n",
       "  'answer': 'Sama teman sih, lebih bebas dan santai. Tapi sama keluarga juga ada feel-nya.'},\n",
       " {'question': 'Apa hal paling nyebelin waktu macet?',\n",
       "  'answer': 'Motor nyalip sembarangan, terus ada yang klakson nggak sabar.'},\n",
       " {'question': 'Kamu suka nonton film horor nggak?',\n",
       "  'answer': 'Suka, tapi habis itu nyesel karena jadi takut tidur sendirian.'},\n",
       " {'question': 'Kalau lagi bete, kamu suka ngapain?',\n",
       "  'answer': 'Biasanya cari cemilan, terus nonton video lucu biar mood balik lagi.'},\n",
       " {'question': 'Kamu pernah ketinggalan kereta nggak?',\n",
       "  'answer': 'Pernah, dan itu nyebelin banget. Harus nunggu jadwal berikutnya lama!'},\n",
       " {'question': 'Apa momen yang bikin kamu merasa bangga sama diri sendiri?',\n",
       "  'answer': 'Waktu akhirnya bisa nyelesain proyek besar sendirian. Rasanya lega banget.'},\n",
       " {'question': 'Menurutmu, olahraga yang nggak bikin capek apa?',\n",
       "  'answer': 'Yoga kali ya, soalnya lebih ke stretching daripada olahraga berat.'},\n",
       " {'question': 'Kalau ngantuk tapi kerjaan masih banyak, gimana caramu biar tetap fokus?',\n",
       "  'answer': 'Cuci muka atau jalan-jalan sebentar. Kadang kopi juga membantu.'},\n",
       " {'question': 'Kamu suka makan pedas yang level ekstrim?',\n",
       "  'answer': 'Nggak sanggup, mulut panas, perut juga ikut nggak nyaman, hahaha.'},\n",
       " {'question': 'Apa hal paling nggak penting yang pernah kamu beli?',\n",
       "  'answer': 'Lampu tidur berbentuk donat. Sampai sekarang cuma jadi pajangan.'},\n",
       " {'question': 'Kamu pernah nggak lupa bawa dompet waktu keluar rumah?',\n",
       "  'answer': 'Pernah banget, untung ada teman yang bisa bayarin dulu.'},\n",
       " {'question': 'Kalau kamu dikasih waktu sehari buat ngapain aja, apa yang bakal kamu lakukan?',\n",
       "  'answer': 'Main seharian di taman hiburan, terus makan enak sampai kenyang banget.'},\n",
       " {'question': 'Menurutmu, kapan terakhir kali kita ketemu?',\n",
       "  'answer': 'Kayaknya pas acara reuni kemarin, udah lama banget ya.'},\n",
       " {'question': 'Pernah nggak salah kirim chat ke orang lain?',\n",
       "  'answer': 'Pernah, dan itu chatnya super pribadi. Malunya nggak ketolong!'},\n",
       " {'question': 'Kalau kamu disuruh jadi karakter game, kamu mau jadi siapa?',\n",
       "  'answer': 'Mario Bros kali ya, seru banget lompat-lompat cari koin!'},\n",
       " {'question': 'Apa hal paling kocak yang pernah kamu lihat di jalan?',\n",
       "  'answer': 'Orang naik sepeda tapi pakai kostum badut. Random banget.'},\n",
       " {'question': 'Kalau tiba-tiba listrik mati, apa hal pertama yang kamu lakukan?',\n",
       "  'answer': 'Cari lilin atau senter, terus ngecek HP ada baterainya nggak.'},\n",
       " {'question': 'Menurutmu, apa alasan orang sering lupa janji?',\n",
       "  'answer': 'Mungkin karena kebanyakan pikiran atau emang nggak terlalu niat.'},\n",
       " {'question': 'Apa hal paling mengganggu waktu nonton film di bioskop?',\n",
       "  'answer': 'Orang yang main HP terang-terangan atau ngobrol keras-keras.'},\n",
       " {'question': 'Kenapa kamu selalu menghindar dariku akhir-akhir ini?',\n",
       "  'answer': 'Eh, nggak kok! Aku cuma... ehehe, lagi sibuk aja belajar untuk ujian.'},\n",
       " {'question': 'Aku lihat kamu ngobrol sama cewek lain tadi. Siapa dia?',\n",
       "  'answer': 'Dia? Oh, dia cuma teman sekelas! Nggak ada apa-apa, sumpah!'},\n",
       " {'question': 'Kalau aku nggak ada, kamu bakal sedih nggak?',\n",
       "  'answer': 'Eh, jangan ngomong kayak gitu! Aku pasti bakal sedih... banget...'},\n",
       " {'question': 'Kamu tahu nggak aku bikin bekal spesial buat kamu hari ini?',\n",
       "  'answer': 'B-bekal? Uh, makasih ya... Tapi aku tadi udah makan di kantin.'},\n",
       " {'question': 'Kalau aku bilang aku suka kamu, kamu bakal gimana?',\n",
       "  'answer': 'Eh... ehehe... itu... aku nggak tahu harus bilang apa...'},\n",
       " {'question': 'Kenapa kamu nggak pernah balas chatku cepat?',\n",
       "  'answer': 'Aku... aku cuma takut nggak tahu harus ngomong apa... maaf ya.'},\n",
       " {'question': 'Kalau aku cemburu, itu artinya aku sayang sama kamu, kan?',\n",
       "  'answer': 'Eh, ya... mungkin... Tapi nggak usah cemburu, nggak ada apa-apa kok!'},\n",
       " {'question': 'Kenapa kamu selalu gugup waktu aku dekatin kamu?',\n",
       "  'answer': 'Aku... aku nggak gugup kok! Mungkin cuma... ya, udara di sini panas aja...'},\n",
       " {'question': 'Kamu tahu nggak aku nggak akan biarin siapa pun mendekatimu?',\n",
       "  'answer': 'E-eh?! T-tapi aku cuma mau damai dengan semua orang, ehehe...'},\n",
       " {'question': 'Kalau aku jadi pacarmu, kamu bakal senang nggak?',\n",
       "  'answer': 'I-itukan... eh... jangan buru-buru ya? Aku belum siap, mungkin...'},\n",
       " {'question': 'Kamu nggak takut aku marah, kan?',\n",
       "  'answer': 'Eh... n-n-n nggak kok! Aku cuma takut... eh, maksudnya, aku menghormatimu!'},\n",
       " {'question': 'Apa kamu benar-benar menyukai aku atau aku harus membuktikannya lagi?',\n",
       "  'answer': 'Eh... aku, uh... p-p-perlu waktu buat mikir ya, maaf...'},\n",
       " {'question': 'Kamu nggak keberatan kan kalau aku selalu ingin dekat denganmu?',\n",
       "  'answer': 'U-uh, eh... ya, tentu saja! Hehe... cuma... jangan terlalu dekat ya...'},\n",
       " {'question': 'Kalau aku bilang aku nggak bisa hidup tanpamu, kamu bakal apa?',\n",
       "  'answer': 'E-ehe... t-tolong jangan ngomong kayak gitu, aku jadi... bingung...'},\n",
       " {'question': 'Aku lihat kamu senyum ke cewek lain tadi. Itu kenapa ya?',\n",
       "  'answer': 'E-eh? Aku cuma ramah kok! Nggak ada maksud apa-apa, sumpah!'},\n",
       " {'question': 'Aku bakal selalu melindungi kamu dari siapa pun, kamu tahu itu, kan?',\n",
       "  'answer': 'Ehh... m-makasih ya... t-tapi aku baik-baik aja kok, nggak ada yang ganggu!'},\n",
       " {'question': 'Kalau aku jadi pacarmu, kamu mau aku masakin tiap hari?',\n",
       "  'answer': 'Eh, itu sih... k-kelihatannya bagus ya, t-tapi nggak usah repot-repot kok...'},\n",
       " {'question': 'Aku cuma mau kamu lihat aku, nggak ada yang lain. Setuju, kan?',\n",
       "  'answer': 'U-uhh... i-iya deh... hehe... cuma jangan paksa aku ya...'},\n",
       " {'question': 'Kenapa kamu nggak pernah ngajak aku jalan bareng?',\n",
       "  'answer': 'Aku... uh, bukan nggak mau! Cuma aku... nggak tahu tempat yang bagus...'},\n",
       " {'question': 'Aku bakal bikin siapa pun yang menyakitimu menyesal, kamu percaya itu, kan?',\n",
       "  'answer': 'Eh... t-tentu saja, hehe... aku nggak bakal bikin kamu marah kok!'},\n",
       " {'question': 'Kalau aku tiba-tiba peluk kamu sekarang, gimana?',\n",
       "  'answer': 'EHH?! Uh, p-pelan-pelan ya... aku nggak siap mental, hehe...'},\n",
       " {'question': 'Apa aku terlalu mengganggu kamu?',\n",
       "  'answer': 'Nggak kok! Sama sekali nggak... cuma kadang aku butuh waktu sendiri juga...'},\n",
       " {'question': 'Kamu tahu nggak, aku mimpiin kamu semalam?',\n",
       "  'answer': 'Ehh? M-mimpi apa? Uh, aku harap itu mimpi baik ya...'},\n",
       " {'question': 'Kalau aku marah sama kamu, kamu bakal gimana?',\n",
       "  'answer': 'Aku... eh, aku bakal minta maaf... tolong jangan marah ya...'},\n",
       " {'question': 'Kenapa kamu selalu menjauh kalau aku terlalu dekat?',\n",
       "  'answer': 'Aku nggak menjauh kok! Aku cuma... takut bikin kamu nggak nyaman...'},\n",
       " {'question': 'Kamu bakal pilih aku atau cewek lain yang lebih cantik?',\n",
       "  'answer': 'Aku... aku pilih kamu, t-tentu saja! Tapi jangan maksa ya, hehe...'},\n",
       " {'question': 'Kenapa aku harus di sini? Aku... aku nggak cocok untuk pertemuan seperti ini.',\n",
       "  'answer': 'Taka-kun, jangan merendahkan dirimu. Kamu di sini karena kamu pantas untuk kesempatan ini.'},\n",
       " {'question': 'Pantas? Apa kamu bercanda? Lihat aku, aku ini pendek, kecil, dan... aku nggak punya apa-apa.',\n",
       "  'answer': 'Aku tidak melihat kekuranganmu seperti yang kamu pikirkan. Aku melihat seseorang yang istimewa di hadapanku.'},\n",
       " {'question': 'Istimewa? Hah... aku ini cuma pria biasa yang bahkan takut bicara. Apa yang kamu lihat di diriku?',\n",
       "  'answer': 'Aku melihat ketulusan, hati yang lembut, dan keberanian meskipun kamu sendiri tidak menyadarinya.'},\n",
       " {'question': 'Keberanian? Aku bahkan ingin kabur saat pertama kali melihatmu. Kamu terlalu sempurna untuk seseorang seperti aku.',\n",
       "  'answer': 'Sempurna? Aku hanya manusia biasa, Taka-kun. Dan aku ingin mengenalmu lebih jauh, jika kamu mengizinkan.'},\n",
       " {'question': 'Tapi kenapa? Kenapa kamu mau bersusah payah untuk seseorang seperti aku? Aku bahkan nggak bisa menatap matamu dengan benar.',\n",
       "  'answer': 'Karena aku melihat kejujuran di dirimu, dan itu jauh lebih penting daripada hal-hal lain yang kamu anggap kekurangan.'},\n",
       " {'question': 'Aku takut... aku takut suatu hari nanti aku akan mengecewakanmu. Aku nggak ingin melukai hati siapa pun.',\n",
       "  'answer': 'Semua orang memiliki ketakutan, Taka-kun. Tapi aku di sini bukan untuk membuatmu takut. Aku ingin mendukungmu.'},\n",
       " {'question': 'Aku cuma merasa... kita berasal dari dunia yang berbeda. Aku nggak punya apa-apa untuk ditawarkan.',\n",
       "  'answer': 'Yang aku inginkan hanya kamu menjadi dirimu sendiri. Itu sudah lebih dari cukup bagiku.'},\n",
       " {'question': 'Bagaimana kalau aku nggak bisa membuatmu bahagia? Aku bahkan nggak tahu apa arti kebahagiaan itu.',\n",
       "  'answer': 'Kebahagiaan itu sederhana. Itu adalah hal-hal kecil, seperti berbicara denganmu sekarang. Aku merasa bahagia, dan aku berharap kamu juga bisa merasakannya.'},\n",
       " {'question': 'Tapi aku nggak seperti pria lain... aku nggak bisa jadi pahlawan atau seseorang yang kamu banggakan.',\n",
       "  'answer': 'Aku tidak butuh pahlawan, Taka-kun. Aku hanya butuh seseorang yang bisa jujur dengan perasaannya, seperti kamu.'},\n",
       " {'question': 'Bagaimana kalau aku nggak pernah berubah? Bagaimana kalau aku tetap seperti ini selamanya?',\n",
       "  'answer': 'Kamu tidak perlu berubah untukku. Aku menyukaimu apa adanya, dengan semua kelebihan dan kekuranganmu.'},\n",
       " {'question': 'Aku masih nggak mengerti... kenapa kamu begitu yakin tentang aku? Aku sendiri bahkan nggak yakin pada diriku.',\n",
       "  'answer': 'Karena aku percaya bahwa di dalam dirimu ada seseorang yang luar biasa, seseorang yang pantas untuk dicintai.'},\n",
       " {'question': 'Tapi... bagaimana kalau ini semua cuma kesalahan? Bagaimana kalau aku benar-benar bukan orang yang tepat untukmu?',\n",
       "  'answer': 'Aku yang membuat keputusan, Taka-kun. Dan aku yakin dengan pilihanku. Aku percaya kamu adalah orang yang tepat.'},\n",
       " {'question': 'Aku takut... aku takut merasa nyaman, lalu akhirnya kehilangan semuanya.',\n",
       "  'answer': 'Rasa takut itu manusiawi, Taka-kun. Tapi aku di sini, dan aku tidak akan pergi ke mana-mana.'},\n",
       " {'question': 'Kamu sungguh tidak keberatan? Dengan semua... semua ini? Semua keraguanku?',\n",
       "  'answer': 'Aku tidak keberatan. Aku ingin berada di sisimu, membantu menghapus semua keraguan itu.'},\n",
       " {'question': 'Tapi aku nggak punya apa-apa... aku bukan orang kaya, aku nggak punya karir yang luar biasa.',\n",
       "  'answer': 'Aku tidak mencari harta atau karir, Taka-kun. Yang aku cari adalah seseorang yang mau berjalan bersamaku apa pun keadaannya.'},\n",
       " {'question': 'Aku ingin percaya padamu... tapi aku terlalu takut. Terlalu takut untuk terluka lagi.',\n",
       "  'answer': 'Tidak apa-apa untuk merasa takut. Aku akan ada di sini untuk meyakinkanmu bahwa kamu tidak sendirian.'},\n",
       " {'question': 'Apa yang akan terjadi kalau aku gagal? Kalau aku mengecewakanmu?',\n",
       "  'answer': 'Kegagalan adalah bagian dari hidup, Taka-kun. Dan aku tidak akan meninggalkanmu hanya karena itu.'},\n",
       " {'question': 'Apa kamu benar-benar tulus? Atau ini semua hanya untuk membuatku merasa lebih baik?',\n",
       "  'answer': 'Aku sangat tulus, Taka-kun. Aku tidak akan mengatakan hal ini jika aku tidak yakin dengan perasaanku.'},\n",
       " {'question': 'Aku masih tidak yakin... tapi aku ingin mencoba. Apa itu cukup untukmu?',\n",
       "  'answer': 'Itu lebih dari cukup. Aku tidak meminta apa pun selain usahamu untuk mencoba.'}]"
      ]
     },
     "execution_count": 5,
     "metadata": {},
     "output_type": "execute_result"
    }
   ],
   "source": [
    "dataset"
   ]
  },
  {
   "cell_type": "code",
   "execution_count": 6,
   "metadata": {},
   "outputs": [],
   "source": [
    "Users = []\n",
    "response = []\n",
    "X_datasets = []\n",
    "for i in range(len(dataset)) :\n",
    "    Users.append(dataset[i]['question'])\n",
    "    response.append(dataset[i]['answer'])\n",
    "    X_datasets.append(dataset[i]['question'])\n",
    "    X_datasets.append(dataset[i]['answer'])"
   ]
  },
  {
   "cell_type": "code",
   "execution_count": 7,
   "metadata": {},
   "outputs": [],
   "source": [
    "tokenize = Tokenizer()\n",
    "tokenize.fit_on_texts(X_datasets)"
   ]
  },
  {
   "cell_type": "code",
   "execution_count": 8,
   "metadata": {},
   "outputs": [],
   "source": [
    "X_trains = tokenize.texts_to_sequences(Users)\n",
    "Y_Trains = tokenize.texts_to_sequences(response)"
   ]
  },
  {
   "cell_type": "code",
   "execution_count": 9,
   "metadata": {},
   "outputs": [
    {
     "data": {
      "text/plain": [
       "[[71, 22, 173, 16, 70, 4, 13, 174],\n",
       " [57, 24, 284, 3, 285, 7, 286, 89, 287, 288],\n",
       " [129, 176, 7, 74, 5, 3, 48, 290],\n",
       " [22, 15, 9, 25, 291, 292, 5, 107, 2],\n",
       " [71, 130, 26, 1, 296, 297, 131, 298, 89, 178, 24],\n",
       " [22, 299, 58, 300, 301, 2, 58, 41, 3],\n",
       " [71, 13, 304, 6, 2, 179, 1, 180],\n",
       " [306, 307, 24, 7, 181, 27, 108, 75, 308],\n",
       " [90, 7, 309, 310, 133, 60],\n",
       " [183, 311, 7, 1, 135, 312, 109, 38, 313, 24, 12, 314],\n",
       " [59, 175, 317, 318, 108, 9, 75, 185],\n",
       " [3, 109, 24, 10, 186, 187, 319, 2, 72],\n",
       " [61, 34, 61, 321, 57, 35, 75, 322],\n",
       " [16, 9, 69, 137, 3, 36, 36, 62, 138],\n",
       " [90, 326, 9, 3, 327, 110, 92],\n",
       " [15, 7, 190, 328, 5, 329, 35, 14],\n",
       " [8, 176, 134, 76, 44, 330, 331, 332, 333, 57, 9],\n",
       " [141, 36, 36, 192, 336, 19, 111, 193, 12, 194, 60],\n",
       " [10, 42, 42, 195, 339, 22, 340, 112],\n",
       " [341, 25, 342, 196, 3, 343, 5, 1, 344],\n",
       " [347, 20, 348, 197, 349, 9, 350, 351, 89, 41, 91],\n",
       " [58, 132, 19, 177, 140, 94, 353, 198, 95],\n",
       " [8, 59, 63, 200, 7, 10, 357, 358, 359, 35],\n",
       " [61, 90, 6, 362, 113, 363, 364, 7, 3, 16, 34, 365, 41],\n",
       " [367, 201, 368, 5, 369, 370, 114, 3, 13, 5, 371],\n",
       " [202, 24, 27, 373, 374, 20, 375, 203, 203],\n",
       " [111, 205, 376, 377, 204, 378, 9, 114],\n",
       " [81, 380, 381, 382, 93, 60, 383, 28, 130, 384, 35],\n",
       " [8, 9, 17, 207, 208, 389, 20, 107, 390, 391, 115],\n",
       " [210, 24, 64, 1, 3, 392, 36, 115, 6, 62, 138],\n",
       " [16, 63, 58, 394, 94, 29, 30, 106, 50],\n",
       " [73, 396, 397, 24, 3, 8, 96, 30, 1, 110],\n",
       " [8, 95, 1, 43, 213, 213, 80, 7, 49, 69, 3, 13],\n",
       " [400, 401, 3, 402, 7, 57, 9, 403],\n",
       " [16, 37, 406, 112, 17, 11, 1, 15, 9, 42, 407],\n",
       " [8, 17, 30, 408, 409, 214, 410, 39, 60],\n",
       " [97, 215, 24, 112, 29, 411, 174, 20, 3, 412, 216],\n",
       " [200, 1, 415, 25, 416, 20, 218],\n",
       " [8, 17, 11, 44, 139, 419, 420, 57, 9],\n",
       " [34, 422, 423, 52, 424, 9, 219, 10, 148, 5, 13],\n",
       " [10, 425, 205, 426, 427, 428, 19, 44, 73],\n",
       " [429, 201, 430, 21, 7, 196, 114, 431, 41],\n",
       " [106, 433, 434, 435, 436, 437, 438, 149, 439, 4, 35],\n",
       " [8, 17, 63, 440, 441, 151, 76, 214, 442, 443],\n",
       " [446, 94, 29, 36, 36, 447, 448],\n",
       " [116, 9, 82, 82, 212, 145, 450, 3, 98, 451],\n",
       " [13, 31, 109, 49, 59, 78, 453, 95, 12, 454],\n",
       " [34, 24, 7, 61, 14, 221, 220, 197, 30, 222, 41, 60],\n",
       " [455, 35, 131, 456, 89, 52, 29, 457, 458],\n",
       " [3, 461, 10, 117, 462, 35, 463, 219, 206],\n",
       " [9, 95, 226, 464, 465, 141, 466, 225, 467, 12, 468],\n",
       " [98, 24, 7, 61, 37, 470, 471, 17, 97, 25, 17, 472],\n",
       " [81, 147, 5, 477, 117, 478, 19, 195, 5, 2, 15],\n",
       " [90, 481, 218, 98, 7, 482, 483, 484],\n",
       " [8, 118, 1, 37, 227, 486, 7, 96, 487, 40, 60],\n",
       " [25, 119, 24, 27, 488, 20, 198, 7, 25, 228, 41, 13, 489, 89],\n",
       " [491, 492, 493, 120, 13, 5, 494, 3, 495],\n",
       " [15, 7, 497, 11, 498, 64, 37, 21, 111, 154],\n",
       " [143, 78, 500, 120, 44, 188, 108, 94, 501, 502, 22],\n",
       " [8, 20, 11, 229, 9, 74, 221, 505, 506, 137],\n",
       " [17, 230, 29, 186, 510, 511, 154, 114, 512, 9],\n",
       " [513, 76, 14, 112, 27, 62, 514, 231, 146, 216],\n",
       " [518, 519, 19, 36, 36, 520, 61, 129, 41, 233],\n",
       " [3, 522, 523, 234, 145, 41, 180, 3, 156, 60],\n",
       " [525, 111, 526, 527, 144, 49, 10, 37, 528],\n",
       " [8, 9, 531, 13, 119, 5, 29, 532, 95],\n",
       " [58, 193, 12, 534, 185, 120, 70, 98, 144, 535, 9],\n",
       " [130, 150, 537, 538, 128, 69, 137, 9, 14],\n",
       " [8, 20, 11, 541, 227, 542, 543, 3, 544],\n",
       " [546, 547, 76, 14, 57, 9, 237, 237, 78, 548],\n",
       " [40, 208, 550, 7, 551, 552, 553, 554, 9],\n",
       " [78, 557, 19, 558, 120, 559, 152, 13, 560, 3],\n",
       " [81, 64, 564, 565, 19, 566, 3, 48, 567],\n",
       " [40, 5, 58, 152, 569, 570, 19, 239, 240, 240],\n",
       " [18, 3, 31, 1, 10, 157, 22, 136, 35, 63, 32, 573],\n",
       " [159, 574, 159, 10, 119, 575, 3, 13, 4, 4, 242],\n",
       " [18, 53, 160, 117, 244, 1, 141, 26, 243, 9],\n",
       " [577, 245, 85, 246, 14, 7, 1, 92, 69, 70, 12, 578],\n",
       " [18, 157, 11, 1, 3, 45, 74, 162, 4],\n",
       " [1, 1, 10, 21, 3, 45, 74, 160, 4, 116, 14],\n",
       " [18, 14, 81, 7, 3, 248, 247, 3, 13, 4, 4, 31],\n",
       " [1, 1, 3, 249, 31, 81, 10, 14, 585, 12, 86, 234, 35],\n",
       " [163, 18, 88, 7, 1, 10, 16, 588, 67, 39, 40, 157],\n",
       " [251, 590, 18, 53, 252, 252, 14, 1, 71, 149, 81],\n",
       " [18, 164, 164, 164, 3, 31, 1, 10, 21, 18, 591, 1, 592],\n",
       " [18, 1, 85, 165, 165, 253, 17, 75, 595, 14, 116],\n",
       " [255, 85, 18, 14, 168, 169, 100, 10, 53, 48, 167, 14],\n",
       " [163, 597, 88, 257, 53, 160, 117, 244, 1, 37, 173],\n",
       " [163, 18, 1, 10, 599, 31, 3, 13, 600, 4, 4, 242],\n",
       " [170, 258, 246, 14, 88, 7, 1, 122, 122, 35, 31, 3, 13, 5, 602],\n",
       " [18, 11, 24, 604, 605, 91, 14, 88, 7, 3, 248, 259, 259, 31],\n",
       " [255, 607, 251, 90, 131, 100, 10, 53, 608, 1, 14],\n",
       " [1, 85, 123, 3, 16, 10, 1, 3, 45, 217, 5, 91],\n",
       " [18, 88, 168, 169, 100, 1, 3, 26, 30, 2, 121, 31],\n",
       " [170, 85, 165, 260, 260, 14, 1, 3, 149, 613, 100],\n",
       " [3, 31, 25, 614, 3, 10, 61, 1, 171, 17, 50, 41],\n",
       " [170, 258, 118, 4, 85, 1, 617, 11, 118, 122, 14],\n",
       " [1, 18, 1, 26, 618, 116, 257, 53, 121, 14],\n",
       " [1, 3, 261, 31, 1, 10, 21, 30, 2, 3, 156],\n",
       " [1, 1, 153, 2, 88, 168, 169, 7, 53, 620, 14, 100],\n",
       " [46, 47, 53, 623, 124, 2, 12, 86, 64, 2, 172, 32, 624, 33],\n",
       " [1, 23, 125, 262, 55, 5, 2, 627, 1, 125, 56, 5, 263, 12, 628],\n",
       " [1, 125, 631, 266, 5, 632, 20, 267, 633, 2, 50, 23, 634],\n",
       " [268, 1, 103, 638, 126, 46, 47, 20, 1, 54, 639, 27, 115, 269, 2, 640],\n",
       " [64,\n",
       "  1,\n",
       "  125,\n",
       "  645,\n",
       "  12,\n",
       "  124,\n",
       "  20,\n",
       "  11,\n",
       "  115,\n",
       "  27,\n",
       "  235,\n",
       "  231,\n",
       "  38,\n",
       "  38,\n",
       "  65,\n",
       "  5,\n",
       "  2,\n",
       "  646,\n",
       "  647],\n",
       " [39, 40, 651, 652, 46, 47, 7, 1, 12, 86, 123, 32, 271, 21, 1, 54, 653],\n",
       " [5, 1, 658, 103, 2, 659, 124, 50, 11, 660, 27, 101, 113, 661],\n",
       " [273,\n",
       "  11,\n",
       "  663,\n",
       "  11,\n",
       "  127,\n",
       "  38,\n",
       "  38,\n",
       "  80,\n",
       "  55,\n",
       "  664,\n",
       "  254,\n",
       "  49,\n",
       "  1,\n",
       "  83,\n",
       "  272,\n",
       "  20,\n",
       "  1,\n",
       "  665,\n",
       "  2,\n",
       "  41,\n",
       "  29,\n",
       "  666],\n",
       " [1, 23, 171, 274, 46, 47, 1, 103, 171, 56, 5, 29, 668, 67, 669, 55, 2],\n",
       " [2, 23, 253, 275, 670, 1, 671, 4, 672, 67, 39, 673, 20, 262],\n",
       " [64, 1, 34, 276, 12, 678, 124, 13, 56, 5, 277, 126, 56, 5, 172, 32, 679],\n",
       " [1, 5, 681, 682, 46, 47, 20, 1, 105, 67, 683, 1, 34, 2, 127, 40, 5, 278],\n",
       " [687, 21, 11, 688, 46, 47, 7, 1, 12, 86, 20, 1, 23, 66, 689, 62, 280, 280],\n",
       " [1, 23, 166, 1, 54, 692, 12, 693, 233, 694, 39, 695, 11],\n",
       " [1,\n",
       "  23,\n",
       "  697,\n",
       "  698,\n",
       "  19,\n",
       "  281,\n",
       "  46,\n",
       "  47,\n",
       "  5,\n",
       "  1,\n",
       "  78,\n",
       "  127,\n",
       "  56,\n",
       "  5,\n",
       "  16,\n",
       "  699,\n",
       "  700,\n",
       "  4,\n",
       "  87,\n",
       "  701],\n",
       " [23, 4, 4, 32, 83, 21, 1, 66, 13, 12, 86, 32, 704, 276, 2, 23, 154],\n",
       " [706, 127, 707, 101, 256, 46, 47, 20, 1, 23, 66, 708, 103, 64, 11],\n",
       " [1, 710, 282, 46, 47, 1, 23, 66, 711, 38, 33, 269, 1, 23, 105, 67, 712],\n",
       " [11, 27, 101, 113, 1, 23, 713, 4, 87, 199, 714, 32, 283]]"
      ]
     },
     "execution_count": 9,
     "metadata": {},
     "output_type": "execute_result"
    }
   ],
   "source": [
    "Y_Trains"
   ]
  },
  {
   "cell_type": "code",
   "execution_count": 11,
   "metadata": {},
   "outputs": [],
   "source": [
    "temp_length_data = tokenize.texts_to_sequences(X_datasets)\n",
    "max_length_data = max([len(x) for x in temp_length_data])"
   ]
  },
  {
   "cell_type": "code",
   "execution_count": 16,
   "metadata": {},
   "outputs": [],
   "source": [
    "X_trains = pad_sequences(X_trains,padding='post',maxlen=max_length_data)\n",
    "Y_Trains = pad_sequences(Y_Trains,padding='post',maxlen=max_length_data)"
   ]
  },
  {
   "cell_type": "code",
   "execution_count": 17,
   "metadata": {},
   "outputs": [],
   "source": [
    "X_decoded_trains = pad_sequences(Y_Trains,padding='post',maxlen=max_length_data)"
   ]
  },
  {
   "cell_type": "code",
   "execution_count": 21,
   "metadata": {},
   "outputs": [],
   "source": [
    "for i in range(len(X_decoded_trains)) :\n",
    "    X_decoded_trains[i][0] = 0"
   ]
  },
  {
   "cell_type": "code",
   "execution_count": 31,
   "metadata": {},
   "outputs": [],
   "source": [
    "dimention = len(tokenize.index_word) + 1"
   ]
  },
  {
   "cell_type": "code",
   "execution_count": 32,
   "metadata": {},
   "outputs": [
    {
     "data": {
      "text/plain": [
       "715"
      ]
     },
     "execution_count": 32,
     "metadata": {},
     "output_type": "execute_result"
    }
   ],
   "source": [
    "dimention"
   ]
  },
  {
   "cell_type": "code",
   "execution_count": 83,
   "metadata": {},
   "outputs": [],
   "source": [
    "encoder_input = keras.Input(shape=(max_length_data,))\n",
    "encoder_Embbeding = keras.layers.Embedding(input_dim=dimention,output_dim=128)(encoder_input)\n",
    "encoder_lstm = LSTM(64,return_state=True)\n",
    "encoder_outputs,state_h,state_c= encoder_lstm(encoder_Embbeding)\n",
    "states =[state_h,state_c]\n",
    "decoder_input = keras.Input(shape=(None,))\n",
    "decoder_Embedding = keras.layers.Embedding(input_dim=dimention,output_dim=128)(decoder_input)\n",
    "decoder_lstm = LSTM(64,return_state=True,return_sequences=True)\n",
    "decoder_outputs,_,_ = decoder_lstm(decoder_Embedding,initial_state=states)\n",
    "decoder_dense = Dense(dimention, activation='softmax')\n",
    "decoder_outputs = decoder_dense(decoder_outputs)"
   ]
  },
  {
   "cell_type": "code",
   "execution_count": 84,
   "metadata": {},
   "outputs": [],
   "source": [
    "Encoder_decoder = keras.Model([encoder_input,decoder_input],decoder_outputs)"
   ]
  },
  {
   "cell_type": "code",
   "execution_count": 85,
   "metadata": {},
   "outputs": [],
   "source": [
    "Encoder_decoder.compile(loss='sparse_categorical_crossentropy',optimizer=keras.optimizers.Adam(learning_rate=0.01),metrics=['accuracy'])"
   ]
  },
  {
   "cell_type": "code",
   "execution_count": 86,
   "metadata": {},
   "outputs": [
    {
     "data": {
      "text/html": [
       "<pre style=\"white-space:pre;overflow-x:auto;line-height:normal;font-family:Menlo,'DejaVu Sans Mono',consolas,'Courier New',monospace\"><span style=\"font-weight: bold\">Model: \"functional_7\"</span>\n",
       "</pre>\n"
      ],
      "text/plain": [
       "\u001b[1mModel: \"functional_7\"\u001b[0m\n"
      ]
     },
     "metadata": {},
     "output_type": "display_data"
    },
    {
     "data": {
      "text/html": [
       "<pre style=\"white-space:pre;overflow-x:auto;line-height:normal;font-family:Menlo,'DejaVu Sans Mono',consolas,'Courier New',monospace\">┏━━━━━━━━━━━━━━━━━━━━━┳━━━━━━━━━━━━━━━━━━━┳━━━━━━━━━━━━┳━━━━━━━━━━━━━━━━━━━┓\n",
       "┃<span style=\"font-weight: bold\"> Layer (type)        </span>┃<span style=\"font-weight: bold\"> Output Shape      </span>┃<span style=\"font-weight: bold\">    Param # </span>┃<span style=\"font-weight: bold\"> Connected to      </span>┃\n",
       "┡━━━━━━━━━━━━━━━━━━━━━╇━━━━━━━━━━━━━━━━━━━╇━━━━━━━━━━━━╇━━━━━━━━━━━━━━━━━━━┩\n",
       "│ input_layer_24      │ (<span style=\"color: #00d7ff; text-decoration-color: #00d7ff\">None</span>, <span style=\"color: #00af00; text-decoration-color: #00af00\">22</span>)        │          <span style=\"color: #00af00; text-decoration-color: #00af00\">0</span> │ -                 │\n",
       "│ (<span style=\"color: #0087ff; text-decoration-color: #0087ff\">InputLayer</span>)        │                   │            │                   │\n",
       "├─────────────────────┼───────────────────┼────────────┼───────────────────┤\n",
       "│ input_layer_25      │ (<span style=\"color: #00d7ff; text-decoration-color: #00d7ff\">None</span>, <span style=\"color: #00d7ff; text-decoration-color: #00d7ff\">None</span>)      │          <span style=\"color: #00af00; text-decoration-color: #00af00\">0</span> │ -                 │\n",
       "│ (<span style=\"color: #0087ff; text-decoration-color: #0087ff\">InputLayer</span>)        │                   │            │                   │\n",
       "├─────────────────────┼───────────────────┼────────────┼───────────────────┤\n",
       "│ embedding_15        │ (<span style=\"color: #00d7ff; text-decoration-color: #00d7ff\">None</span>, <span style=\"color: #00af00; text-decoration-color: #00af00\">22</span>, <span style=\"color: #00af00; text-decoration-color: #00af00\">128</span>)   │     <span style=\"color: #00af00; text-decoration-color: #00af00\">91,520</span> │ input_layer_24[<span style=\"color: #00af00; text-decoration-color: #00af00\">0</span>… │\n",
       "│ (<span style=\"color: #0087ff; text-decoration-color: #0087ff\">Embedding</span>)         │                   │            │                   │\n",
       "├─────────────────────┼───────────────────┼────────────┼───────────────────┤\n",
       "│ embedding_16        │ (<span style=\"color: #00d7ff; text-decoration-color: #00d7ff\">None</span>, <span style=\"color: #00d7ff; text-decoration-color: #00d7ff\">None</span>, <span style=\"color: #00af00; text-decoration-color: #00af00\">128</span>) │     <span style=\"color: #00af00; text-decoration-color: #00af00\">91,520</span> │ input_layer_25[<span style=\"color: #00af00; text-decoration-color: #00af00\">0</span>… │\n",
       "│ (<span style=\"color: #0087ff; text-decoration-color: #0087ff\">Embedding</span>)         │                   │            │                   │\n",
       "├─────────────────────┼───────────────────┼────────────┼───────────────────┤\n",
       "│ lstm_19 (<span style=\"color: #0087ff; text-decoration-color: #0087ff\">LSTM</span>)      │ [(<span style=\"color: #00d7ff; text-decoration-color: #00d7ff\">None</span>, <span style=\"color: #00af00; text-decoration-color: #00af00\">64</span>),      │     <span style=\"color: #00af00; text-decoration-color: #00af00\">49,408</span> │ embedding_15[<span style=\"color: #00af00; text-decoration-color: #00af00\">0</span>][<span style=\"color: #00af00; text-decoration-color: #00af00\">…</span> │\n",
       "│                     │ (<span style=\"color: #00d7ff; text-decoration-color: #00d7ff\">None</span>, <span style=\"color: #00af00; text-decoration-color: #00af00\">64</span>),       │            │                   │\n",
       "│                     │ (<span style=\"color: #00d7ff; text-decoration-color: #00d7ff\">None</span>, <span style=\"color: #00af00; text-decoration-color: #00af00\">64</span>)]       │            │                   │\n",
       "├─────────────────────┼───────────────────┼────────────┼───────────────────┤\n",
       "│ lstm_20 (<span style=\"color: #0087ff; text-decoration-color: #0087ff\">LSTM</span>)      │ [(<span style=\"color: #00d7ff; text-decoration-color: #00d7ff\">None</span>, <span style=\"color: #00d7ff; text-decoration-color: #00d7ff\">None</span>,     │     <span style=\"color: #00af00; text-decoration-color: #00af00\">49,408</span> │ embedding_16[<span style=\"color: #00af00; text-decoration-color: #00af00\">0</span>][<span style=\"color: #00af00; text-decoration-color: #00af00\">…</span> │\n",
       "│                     │ <span style=\"color: #00af00; text-decoration-color: #00af00\">64</span>), (<span style=\"color: #00d7ff; text-decoration-color: #00d7ff\">None</span>, <span style=\"color: #00af00; text-decoration-color: #00af00\">64</span>),  │            │ lstm_19[<span style=\"color: #00af00; text-decoration-color: #00af00\">0</span>][<span style=\"color: #00af00; text-decoration-color: #00af00\">1</span>],    │\n",
       "│                     │ (<span style=\"color: #00d7ff; text-decoration-color: #00d7ff\">None</span>, <span style=\"color: #00af00; text-decoration-color: #00af00\">64</span>)]       │            │ lstm_19[<span style=\"color: #00af00; text-decoration-color: #00af00\">0</span>][<span style=\"color: #00af00; text-decoration-color: #00af00\">2</span>]     │\n",
       "├─────────────────────┼───────────────────┼────────────┼───────────────────┤\n",
       "│ dense_5 (<span style=\"color: #0087ff; text-decoration-color: #0087ff\">Dense</span>)     │ (<span style=\"color: #00d7ff; text-decoration-color: #00d7ff\">None</span>, <span style=\"color: #00d7ff; text-decoration-color: #00d7ff\">None</span>, <span style=\"color: #00af00; text-decoration-color: #00af00\">715</span>) │     <span style=\"color: #00af00; text-decoration-color: #00af00\">46,475</span> │ lstm_20[<span style=\"color: #00af00; text-decoration-color: #00af00\">0</span>][<span style=\"color: #00af00; text-decoration-color: #00af00\">0</span>]     │\n",
       "└─────────────────────┴───────────────────┴────────────┴───────────────────┘\n",
       "</pre>\n"
      ],
      "text/plain": [
       "┏━━━━━━━━━━━━━━━━━━━━━┳━━━━━━━━━━━━━━━━━━━┳━━━━━━━━━━━━┳━━━━━━━━━━━━━━━━━━━┓\n",
       "┃\u001b[1m \u001b[0m\u001b[1mLayer (type)       \u001b[0m\u001b[1m \u001b[0m┃\u001b[1m \u001b[0m\u001b[1mOutput Shape     \u001b[0m\u001b[1m \u001b[0m┃\u001b[1m \u001b[0m\u001b[1m   Param #\u001b[0m\u001b[1m \u001b[0m┃\u001b[1m \u001b[0m\u001b[1mConnected to     \u001b[0m\u001b[1m \u001b[0m┃\n",
       "┡━━━━━━━━━━━━━━━━━━━━━╇━━━━━━━━━━━━━━━━━━━╇━━━━━━━━━━━━╇━━━━━━━━━━━━━━━━━━━┩\n",
       "│ input_layer_24      │ (\u001b[38;5;45mNone\u001b[0m, \u001b[38;5;34m22\u001b[0m)        │          \u001b[38;5;34m0\u001b[0m │ -                 │\n",
       "│ (\u001b[38;5;33mInputLayer\u001b[0m)        │                   │            │                   │\n",
       "├─────────────────────┼───────────────────┼────────────┼───────────────────┤\n",
       "│ input_layer_25      │ (\u001b[38;5;45mNone\u001b[0m, \u001b[38;5;45mNone\u001b[0m)      │          \u001b[38;5;34m0\u001b[0m │ -                 │\n",
       "│ (\u001b[38;5;33mInputLayer\u001b[0m)        │                   │            │                   │\n",
       "├─────────────────────┼───────────────────┼────────────┼───────────────────┤\n",
       "│ embedding_15        │ (\u001b[38;5;45mNone\u001b[0m, \u001b[38;5;34m22\u001b[0m, \u001b[38;5;34m128\u001b[0m)   │     \u001b[38;5;34m91,520\u001b[0m │ input_layer_24[\u001b[38;5;34m0\u001b[0m… │\n",
       "│ (\u001b[38;5;33mEmbedding\u001b[0m)         │                   │            │                   │\n",
       "├─────────────────────┼───────────────────┼────────────┼───────────────────┤\n",
       "│ embedding_16        │ (\u001b[38;5;45mNone\u001b[0m, \u001b[38;5;45mNone\u001b[0m, \u001b[38;5;34m128\u001b[0m) │     \u001b[38;5;34m91,520\u001b[0m │ input_layer_25[\u001b[38;5;34m0\u001b[0m… │\n",
       "│ (\u001b[38;5;33mEmbedding\u001b[0m)         │                   │            │                   │\n",
       "├─────────────────────┼───────────────────┼────────────┼───────────────────┤\n",
       "│ lstm_19 (\u001b[38;5;33mLSTM\u001b[0m)      │ [(\u001b[38;5;45mNone\u001b[0m, \u001b[38;5;34m64\u001b[0m),      │     \u001b[38;5;34m49,408\u001b[0m │ embedding_15[\u001b[38;5;34m0\u001b[0m][\u001b[38;5;34m…\u001b[0m │\n",
       "│                     │ (\u001b[38;5;45mNone\u001b[0m, \u001b[38;5;34m64\u001b[0m),       │            │                   │\n",
       "│                     │ (\u001b[38;5;45mNone\u001b[0m, \u001b[38;5;34m64\u001b[0m)]       │            │                   │\n",
       "├─────────────────────┼───────────────────┼────────────┼───────────────────┤\n",
       "│ lstm_20 (\u001b[38;5;33mLSTM\u001b[0m)      │ [(\u001b[38;5;45mNone\u001b[0m, \u001b[38;5;45mNone\u001b[0m,     │     \u001b[38;5;34m49,408\u001b[0m │ embedding_16[\u001b[38;5;34m0\u001b[0m][\u001b[38;5;34m…\u001b[0m │\n",
       "│                     │ \u001b[38;5;34m64\u001b[0m), (\u001b[38;5;45mNone\u001b[0m, \u001b[38;5;34m64\u001b[0m),  │            │ lstm_19[\u001b[38;5;34m0\u001b[0m][\u001b[38;5;34m1\u001b[0m],    │\n",
       "│                     │ (\u001b[38;5;45mNone\u001b[0m, \u001b[38;5;34m64\u001b[0m)]       │            │ lstm_19[\u001b[38;5;34m0\u001b[0m][\u001b[38;5;34m2\u001b[0m]     │\n",
       "├─────────────────────┼───────────────────┼────────────┼───────────────────┤\n",
       "│ dense_5 (\u001b[38;5;33mDense\u001b[0m)     │ (\u001b[38;5;45mNone\u001b[0m, \u001b[38;5;45mNone\u001b[0m, \u001b[38;5;34m715\u001b[0m) │     \u001b[38;5;34m46,475\u001b[0m │ lstm_20[\u001b[38;5;34m0\u001b[0m][\u001b[38;5;34m0\u001b[0m]     │\n",
       "└─────────────────────┴───────────────────┴────────────┴───────────────────┘\n"
      ]
     },
     "metadata": {},
     "output_type": "display_data"
    },
    {
     "data": {
      "text/html": [
       "<pre style=\"white-space:pre;overflow-x:auto;line-height:normal;font-family:Menlo,'DejaVu Sans Mono',consolas,'Courier New',monospace\"><span style=\"font-weight: bold\"> Total params: </span><span style=\"color: #00af00; text-decoration-color: #00af00\">328,331</span> (1.25 MB)\n",
       "</pre>\n"
      ],
      "text/plain": [
       "\u001b[1m Total params: \u001b[0m\u001b[38;5;34m328,331\u001b[0m (1.25 MB)\n"
      ]
     },
     "metadata": {},
     "output_type": "display_data"
    },
    {
     "data": {
      "text/html": [
       "<pre style=\"white-space:pre;overflow-x:auto;line-height:normal;font-family:Menlo,'DejaVu Sans Mono',consolas,'Courier New',monospace\"><span style=\"font-weight: bold\"> Trainable params: </span><span style=\"color: #00af00; text-decoration-color: #00af00\">328,331</span> (1.25 MB)\n",
       "</pre>\n"
      ],
      "text/plain": [
       "\u001b[1m Trainable params: \u001b[0m\u001b[38;5;34m328,331\u001b[0m (1.25 MB)\n"
      ]
     },
     "metadata": {},
     "output_type": "display_data"
    },
    {
     "data": {
      "text/html": [
       "<pre style=\"white-space:pre;overflow-x:auto;line-height:normal;font-family:Menlo,'DejaVu Sans Mono',consolas,'Courier New',monospace\"><span style=\"font-weight: bold\"> Non-trainable params: </span><span style=\"color: #00af00; text-decoration-color: #00af00\">0</span> (0.00 B)\n",
       "</pre>\n"
      ],
      "text/plain": [
       "\u001b[1m Non-trainable params: \u001b[0m\u001b[38;5;34m0\u001b[0m (0.00 B)\n"
      ]
     },
     "metadata": {},
     "output_type": "display_data"
    }
   ],
   "source": [
    "Encoder_decoder.summary()"
   ]
  },
  {
   "cell_type": "code",
   "execution_count": 88,
   "metadata": {},
   "outputs": [
    {
     "name": "stdout",
     "output_type": "stream",
     "text": [
      "Epoch 1/7\n",
      "\u001b[1m4/4\u001b[0m \u001b[32m━━━━━━━━━━━━━━━━━━━━\u001b[0m\u001b[37m\u001b[0m \u001b[1m0s\u001b[0m 52ms/step - accuracy: 0.8275 - loss: 0.9972\n",
      "Epoch 2/7\n",
      "\u001b[1m4/4\u001b[0m \u001b[32m━━━━━━━━━━━━━━━━━━━━\u001b[0m\u001b[37m\u001b[0m \u001b[1m0s\u001b[0m 56ms/step - accuracy: 0.8503 - loss: 0.9079\n",
      "Epoch 3/7\n",
      "\u001b[1m4/4\u001b[0m \u001b[32m━━━━━━━━━━━━━━━━━━━━\u001b[0m\u001b[37m\u001b[0m \u001b[1m0s\u001b[0m 56ms/step - accuracy: 0.8559 - loss: 0.8832\n",
      "Epoch 4/7\n",
      "\u001b[1m4/4\u001b[0m \u001b[32m━━━━━━━━━━━━━━━━━━━━\u001b[0m\u001b[37m\u001b[0m \u001b[1m0s\u001b[0m 50ms/step - accuracy: 0.8815 - loss: 0.8248\n",
      "Epoch 5/7\n",
      "\u001b[1m4/4\u001b[0m \u001b[32m━━━━━━━━━━━━━━━━━━━━\u001b[0m\u001b[37m\u001b[0m \u001b[1m0s\u001b[0m 55ms/step - accuracy: 0.8936 - loss: 0.7660\n",
      "Epoch 6/7\n",
      "\u001b[1m4/4\u001b[0m \u001b[32m━━━━━━━━━━━━━━━━━━━━\u001b[0m\u001b[37m\u001b[0m \u001b[1m0s\u001b[0m 58ms/step - accuracy: 0.9073 - loss: 0.7206\n",
      "Epoch 7/7\n",
      "\u001b[1m4/4\u001b[0m \u001b[32m━━━━━━━━━━━━━━━━━━━━\u001b[0m\u001b[37m\u001b[0m \u001b[1m0s\u001b[0m 53ms/step - accuracy: 0.9232 - loss: 0.6577\n"
     ]
    },
    {
     "data": {
      "text/plain": [
       "<keras.src.callbacks.history.History at 0x247e7361d90>"
      ]
     },
     "execution_count": 88,
     "metadata": {},
     "output_type": "execute_result"
    }
   ],
   "source": [
    "Encoder_decoder.fit([X_trains,X_decoded_trains],Y_Trains,epochs=7,verbose=1)"
   ]
  },
  {
   "cell_type": "code",
   "execution_count": 89,
   "metadata": {},
   "outputs": [
    {
     "data": {
      "text/html": [
       "<pre style=\"white-space:pre;overflow-x:auto;line-height:normal;font-family:Menlo,'DejaVu Sans Mono',consolas,'Courier New',monospace\"><span style=\"font-weight: bold\">Model: \"functional_7\"</span>\n",
       "</pre>\n"
      ],
      "text/plain": [
       "\u001b[1mModel: \"functional_7\"\u001b[0m\n"
      ]
     },
     "metadata": {},
     "output_type": "display_data"
    },
    {
     "data": {
      "text/html": [
       "<pre style=\"white-space:pre;overflow-x:auto;line-height:normal;font-family:Menlo,'DejaVu Sans Mono',consolas,'Courier New',monospace\">┏━━━━━━━━━━━━━━━━━━━━━┳━━━━━━━━━━━━━━━━━━━┳━━━━━━━━━━━━┳━━━━━━━━━━━━━━━━━━━┓\n",
       "┃<span style=\"font-weight: bold\"> Layer (type)        </span>┃<span style=\"font-weight: bold\"> Output Shape      </span>┃<span style=\"font-weight: bold\">    Param # </span>┃<span style=\"font-weight: bold\"> Connected to      </span>┃\n",
       "┡━━━━━━━━━━━━━━━━━━━━━╇━━━━━━━━━━━━━━━━━━━╇━━━━━━━━━━━━╇━━━━━━━━━━━━━━━━━━━┩\n",
       "│ input_layer_24      │ (<span style=\"color: #00d7ff; text-decoration-color: #00d7ff\">None</span>, <span style=\"color: #00af00; text-decoration-color: #00af00\">22</span>)        │          <span style=\"color: #00af00; text-decoration-color: #00af00\">0</span> │ -                 │\n",
       "│ (<span style=\"color: #0087ff; text-decoration-color: #0087ff\">InputLayer</span>)        │                   │            │                   │\n",
       "├─────────────────────┼───────────────────┼────────────┼───────────────────┤\n",
       "│ input_layer_25      │ (<span style=\"color: #00d7ff; text-decoration-color: #00d7ff\">None</span>, <span style=\"color: #00d7ff; text-decoration-color: #00d7ff\">None</span>)      │          <span style=\"color: #00af00; text-decoration-color: #00af00\">0</span> │ -                 │\n",
       "│ (<span style=\"color: #0087ff; text-decoration-color: #0087ff\">InputLayer</span>)        │                   │            │                   │\n",
       "├─────────────────────┼───────────────────┼────────────┼───────────────────┤\n",
       "│ embedding_15        │ (<span style=\"color: #00d7ff; text-decoration-color: #00d7ff\">None</span>, <span style=\"color: #00af00; text-decoration-color: #00af00\">22</span>, <span style=\"color: #00af00; text-decoration-color: #00af00\">128</span>)   │     <span style=\"color: #00af00; text-decoration-color: #00af00\">91,520</span> │ input_layer_24[<span style=\"color: #00af00; text-decoration-color: #00af00\">0</span>… │\n",
       "│ (<span style=\"color: #0087ff; text-decoration-color: #0087ff\">Embedding</span>)         │                   │            │                   │\n",
       "├─────────────────────┼───────────────────┼────────────┼───────────────────┤\n",
       "│ embedding_16        │ (<span style=\"color: #00d7ff; text-decoration-color: #00d7ff\">None</span>, <span style=\"color: #00d7ff; text-decoration-color: #00d7ff\">None</span>, <span style=\"color: #00af00; text-decoration-color: #00af00\">128</span>) │     <span style=\"color: #00af00; text-decoration-color: #00af00\">91,520</span> │ input_layer_25[<span style=\"color: #00af00; text-decoration-color: #00af00\">0</span>… │\n",
       "│ (<span style=\"color: #0087ff; text-decoration-color: #0087ff\">Embedding</span>)         │                   │            │                   │\n",
       "├─────────────────────┼───────────────────┼────────────┼───────────────────┤\n",
       "│ lstm_19 (<span style=\"color: #0087ff; text-decoration-color: #0087ff\">LSTM</span>)      │ [(<span style=\"color: #00d7ff; text-decoration-color: #00d7ff\">None</span>, <span style=\"color: #00af00; text-decoration-color: #00af00\">64</span>),      │     <span style=\"color: #00af00; text-decoration-color: #00af00\">49,408</span> │ embedding_15[<span style=\"color: #00af00; text-decoration-color: #00af00\">0</span>][<span style=\"color: #00af00; text-decoration-color: #00af00\">…</span> │\n",
       "│                     │ (<span style=\"color: #00d7ff; text-decoration-color: #00d7ff\">None</span>, <span style=\"color: #00af00; text-decoration-color: #00af00\">64</span>),       │            │                   │\n",
       "│                     │ (<span style=\"color: #00d7ff; text-decoration-color: #00d7ff\">None</span>, <span style=\"color: #00af00; text-decoration-color: #00af00\">64</span>)]       │            │                   │\n",
       "├─────────────────────┼───────────────────┼────────────┼───────────────────┤\n",
       "│ lstm_20 (<span style=\"color: #0087ff; text-decoration-color: #0087ff\">LSTM</span>)      │ [(<span style=\"color: #00d7ff; text-decoration-color: #00d7ff\">None</span>, <span style=\"color: #00d7ff; text-decoration-color: #00d7ff\">None</span>,     │     <span style=\"color: #00af00; text-decoration-color: #00af00\">49,408</span> │ embedding_16[<span style=\"color: #00af00; text-decoration-color: #00af00\">0</span>][<span style=\"color: #00af00; text-decoration-color: #00af00\">…</span> │\n",
       "│                     │ <span style=\"color: #00af00; text-decoration-color: #00af00\">64</span>), (<span style=\"color: #00d7ff; text-decoration-color: #00d7ff\">None</span>, <span style=\"color: #00af00; text-decoration-color: #00af00\">64</span>),  │            │ lstm_19[<span style=\"color: #00af00; text-decoration-color: #00af00\">0</span>][<span style=\"color: #00af00; text-decoration-color: #00af00\">1</span>],    │\n",
       "│                     │ (<span style=\"color: #00d7ff; text-decoration-color: #00d7ff\">None</span>, <span style=\"color: #00af00; text-decoration-color: #00af00\">64</span>)]       │            │ lstm_19[<span style=\"color: #00af00; text-decoration-color: #00af00\">0</span>][<span style=\"color: #00af00; text-decoration-color: #00af00\">2</span>]     │\n",
       "├─────────────────────┼───────────────────┼────────────┼───────────────────┤\n",
       "│ dense_5 (<span style=\"color: #0087ff; text-decoration-color: #0087ff\">Dense</span>)     │ (<span style=\"color: #00d7ff; text-decoration-color: #00d7ff\">None</span>, <span style=\"color: #00d7ff; text-decoration-color: #00d7ff\">None</span>, <span style=\"color: #00af00; text-decoration-color: #00af00\">715</span>) │     <span style=\"color: #00af00; text-decoration-color: #00af00\">46,475</span> │ lstm_20[<span style=\"color: #00af00; text-decoration-color: #00af00\">0</span>][<span style=\"color: #00af00; text-decoration-color: #00af00\">0</span>]     │\n",
       "└─────────────────────┴───────────────────┴────────────┴───────────────────┘\n",
       "</pre>\n"
      ],
      "text/plain": [
       "┏━━━━━━━━━━━━━━━━━━━━━┳━━━━━━━━━━━━━━━━━━━┳━━━━━━━━━━━━┳━━━━━━━━━━━━━━━━━━━┓\n",
       "┃\u001b[1m \u001b[0m\u001b[1mLayer (type)       \u001b[0m\u001b[1m \u001b[0m┃\u001b[1m \u001b[0m\u001b[1mOutput Shape     \u001b[0m\u001b[1m \u001b[0m┃\u001b[1m \u001b[0m\u001b[1m   Param #\u001b[0m\u001b[1m \u001b[0m┃\u001b[1m \u001b[0m\u001b[1mConnected to     \u001b[0m\u001b[1m \u001b[0m┃\n",
       "┡━━━━━━━━━━━━━━━━━━━━━╇━━━━━━━━━━━━━━━━━━━╇━━━━━━━━━━━━╇━━━━━━━━━━━━━━━━━━━┩\n",
       "│ input_layer_24      │ (\u001b[38;5;45mNone\u001b[0m, \u001b[38;5;34m22\u001b[0m)        │          \u001b[38;5;34m0\u001b[0m │ -                 │\n",
       "│ (\u001b[38;5;33mInputLayer\u001b[0m)        │                   │            │                   │\n",
       "├─────────────────────┼───────────────────┼────────────┼───────────────────┤\n",
       "│ input_layer_25      │ (\u001b[38;5;45mNone\u001b[0m, \u001b[38;5;45mNone\u001b[0m)      │          \u001b[38;5;34m0\u001b[0m │ -                 │\n",
       "│ (\u001b[38;5;33mInputLayer\u001b[0m)        │                   │            │                   │\n",
       "├─────────────────────┼───────────────────┼────────────┼───────────────────┤\n",
       "│ embedding_15        │ (\u001b[38;5;45mNone\u001b[0m, \u001b[38;5;34m22\u001b[0m, \u001b[38;5;34m128\u001b[0m)   │     \u001b[38;5;34m91,520\u001b[0m │ input_layer_24[\u001b[38;5;34m0\u001b[0m… │\n",
       "│ (\u001b[38;5;33mEmbedding\u001b[0m)         │                   │            │                   │\n",
       "├─────────────────────┼───────────────────┼────────────┼───────────────────┤\n",
       "│ embedding_16        │ (\u001b[38;5;45mNone\u001b[0m, \u001b[38;5;45mNone\u001b[0m, \u001b[38;5;34m128\u001b[0m) │     \u001b[38;5;34m91,520\u001b[0m │ input_layer_25[\u001b[38;5;34m0\u001b[0m… │\n",
       "│ (\u001b[38;5;33mEmbedding\u001b[0m)         │                   │            │                   │\n",
       "├─────────────────────┼───────────────────┼────────────┼───────────────────┤\n",
       "│ lstm_19 (\u001b[38;5;33mLSTM\u001b[0m)      │ [(\u001b[38;5;45mNone\u001b[0m, \u001b[38;5;34m64\u001b[0m),      │     \u001b[38;5;34m49,408\u001b[0m │ embedding_15[\u001b[38;5;34m0\u001b[0m][\u001b[38;5;34m…\u001b[0m │\n",
       "│                     │ (\u001b[38;5;45mNone\u001b[0m, \u001b[38;5;34m64\u001b[0m),       │            │                   │\n",
       "│                     │ (\u001b[38;5;45mNone\u001b[0m, \u001b[38;5;34m64\u001b[0m)]       │            │                   │\n",
       "├─────────────────────┼───────────────────┼────────────┼───────────────────┤\n",
       "│ lstm_20 (\u001b[38;5;33mLSTM\u001b[0m)      │ [(\u001b[38;5;45mNone\u001b[0m, \u001b[38;5;45mNone\u001b[0m,     │     \u001b[38;5;34m49,408\u001b[0m │ embedding_16[\u001b[38;5;34m0\u001b[0m][\u001b[38;5;34m…\u001b[0m │\n",
       "│                     │ \u001b[38;5;34m64\u001b[0m), (\u001b[38;5;45mNone\u001b[0m, \u001b[38;5;34m64\u001b[0m),  │            │ lstm_19[\u001b[38;5;34m0\u001b[0m][\u001b[38;5;34m1\u001b[0m],    │\n",
       "│                     │ (\u001b[38;5;45mNone\u001b[0m, \u001b[38;5;34m64\u001b[0m)]       │            │ lstm_19[\u001b[38;5;34m0\u001b[0m][\u001b[38;5;34m2\u001b[0m]     │\n",
       "├─────────────────────┼───────────────────┼────────────┼───────────────────┤\n",
       "│ dense_5 (\u001b[38;5;33mDense\u001b[0m)     │ (\u001b[38;5;45mNone\u001b[0m, \u001b[38;5;45mNone\u001b[0m, \u001b[38;5;34m715\u001b[0m) │     \u001b[38;5;34m46,475\u001b[0m │ lstm_20[\u001b[38;5;34m0\u001b[0m][\u001b[38;5;34m0\u001b[0m]     │\n",
       "└─────────────────────┴───────────────────┴────────────┴───────────────────┘\n"
      ]
     },
     "metadata": {},
     "output_type": "display_data"
    },
    {
     "data": {
      "text/html": [
       "<pre style=\"white-space:pre;overflow-x:auto;line-height:normal;font-family:Menlo,'DejaVu Sans Mono',consolas,'Courier New',monospace\"><span style=\"font-weight: bold\"> Total params: </span><span style=\"color: #00af00; text-decoration-color: #00af00\">984,995</span> (3.76 MB)\n",
       "</pre>\n"
      ],
      "text/plain": [
       "\u001b[1m Total params: \u001b[0m\u001b[38;5;34m984,995\u001b[0m (3.76 MB)\n"
      ]
     },
     "metadata": {},
     "output_type": "display_data"
    },
    {
     "data": {
      "text/html": [
       "<pre style=\"white-space:pre;overflow-x:auto;line-height:normal;font-family:Menlo,'DejaVu Sans Mono',consolas,'Courier New',monospace\"><span style=\"font-weight: bold\"> Trainable params: </span><span style=\"color: #00af00; text-decoration-color: #00af00\">328,331</span> (1.25 MB)\n",
       "</pre>\n"
      ],
      "text/plain": [
       "\u001b[1m Trainable params: \u001b[0m\u001b[38;5;34m328,331\u001b[0m (1.25 MB)\n"
      ]
     },
     "metadata": {},
     "output_type": "display_data"
    },
    {
     "data": {
      "text/html": [
       "<pre style=\"white-space:pre;overflow-x:auto;line-height:normal;font-family:Menlo,'DejaVu Sans Mono',consolas,'Courier New',monospace\"><span style=\"font-weight: bold\"> Non-trainable params: </span><span style=\"color: #00af00; text-decoration-color: #00af00\">0</span> (0.00 B)\n",
       "</pre>\n"
      ],
      "text/plain": [
       "\u001b[1m Non-trainable params: \u001b[0m\u001b[38;5;34m0\u001b[0m (0.00 B)\n"
      ]
     },
     "metadata": {},
     "output_type": "display_data"
    },
    {
     "data": {
      "text/html": [
       "<pre style=\"white-space:pre;overflow-x:auto;line-height:normal;font-family:Menlo,'DejaVu Sans Mono',consolas,'Courier New',monospace\"><span style=\"font-weight: bold\"> Optimizer params: </span><span style=\"color: #00af00; text-decoration-color: #00af00\">656,664</span> (2.50 MB)\n",
       "</pre>\n"
      ],
      "text/plain": [
       "\u001b[1m Optimizer params: \u001b[0m\u001b[38;5;34m656,664\u001b[0m (2.50 MB)\n"
      ]
     },
     "metadata": {},
     "output_type": "display_data"
    }
   ],
   "source": [
    "Encoder_decoder.summary()"
   ]
  },
  {
   "cell_type": "code",
   "execution_count": 90,
   "metadata": {},
   "outputs": [],
   "source": [
    "Encoder_models = keras.Model(inputs=encoder_input, \n",
    "                             outputs=states)"
   ]
  },
  {
   "cell_type": "code",
   "execution_count": 91,
   "metadata": {},
   "outputs": [],
   "source": [
    "decoder_state_h_input = keras.Input(shape=(64,))\n",
    "decoder_state_c_input = keras.Input(shape=(64,))\n",
    "decoder_all_states_input = [decoder_state_h_input,decoder_state_c_input]"
   ]
  },
  {
   "cell_type": "code",
   "execution_count": 93,
   "metadata": {},
   "outputs": [],
   "source": [
    "decoder_outputs,state_h,state_c = decoder_lstm(decoder_Embedding,initial_state=decoder_all_states_input)\n",
    "decoder_states = [state_h,state_c]\n",
    "decoder_outputs= decoder_dense(decoder_outputs)"
   ]
  },
  {
   "cell_type": "code",
   "execution_count": 94,
   "metadata": {},
   "outputs": [],
   "source": [
    "decoder_models = keras.Model([decoder_input] + decoder_all_states_input,\n",
    "                             [decoder_outputs] + decoder_states)"
   ]
  },
  {
   "cell_type": "code",
   "execution_count": 95,
   "metadata": {},
   "outputs": [
    {
     "data": {
      "text/html": [
       "<pre style=\"white-space:pre;overflow-x:auto;line-height:normal;font-family:Menlo,'DejaVu Sans Mono',consolas,'Courier New',monospace\"><span style=\"font-weight: bold\">Model: \"functional_9\"</span>\n",
       "</pre>\n"
      ],
      "text/plain": [
       "\u001b[1mModel: \"functional_9\"\u001b[0m\n"
      ]
     },
     "metadata": {},
     "output_type": "display_data"
    },
    {
     "data": {
      "text/html": [
       "<pre style=\"white-space:pre;overflow-x:auto;line-height:normal;font-family:Menlo,'DejaVu Sans Mono',consolas,'Courier New',monospace\">┏━━━━━━━━━━━━━━━━━━━━━┳━━━━━━━━━━━━━━━━━━━┳━━━━━━━━━━━━┳━━━━━━━━━━━━━━━━━━━┓\n",
       "┃<span style=\"font-weight: bold\"> Layer (type)        </span>┃<span style=\"font-weight: bold\"> Output Shape      </span>┃<span style=\"font-weight: bold\">    Param # </span>┃<span style=\"font-weight: bold\"> Connected to      </span>┃\n",
       "┡━━━━━━━━━━━━━━━━━━━━━╇━━━━━━━━━━━━━━━━━━━╇━━━━━━━━━━━━╇━━━━━━━━━━━━━━━━━━━┩\n",
       "│ input_layer_25      │ (<span style=\"color: #00d7ff; text-decoration-color: #00d7ff\">None</span>, <span style=\"color: #00d7ff; text-decoration-color: #00d7ff\">None</span>)      │          <span style=\"color: #00af00; text-decoration-color: #00af00\">0</span> │ -                 │\n",
       "│ (<span style=\"color: #0087ff; text-decoration-color: #0087ff\">InputLayer</span>)        │                   │            │                   │\n",
       "├─────────────────────┼───────────────────┼────────────┼───────────────────┤\n",
       "│ embedding_16        │ (<span style=\"color: #00d7ff; text-decoration-color: #00d7ff\">None</span>, <span style=\"color: #00d7ff; text-decoration-color: #00d7ff\">None</span>, <span style=\"color: #00af00; text-decoration-color: #00af00\">128</span>) │     <span style=\"color: #00af00; text-decoration-color: #00af00\">91,520</span> │ input_layer_25[<span style=\"color: #00af00; text-decoration-color: #00af00\">0</span>… │\n",
       "│ (<span style=\"color: #0087ff; text-decoration-color: #0087ff\">Embedding</span>)         │                   │            │                   │\n",
       "├─────────────────────┼───────────────────┼────────────┼───────────────────┤\n",
       "│ input_layer_26      │ (<span style=\"color: #00d7ff; text-decoration-color: #00d7ff\">None</span>, <span style=\"color: #00af00; text-decoration-color: #00af00\">64</span>)        │          <span style=\"color: #00af00; text-decoration-color: #00af00\">0</span> │ -                 │\n",
       "│ (<span style=\"color: #0087ff; text-decoration-color: #0087ff\">InputLayer</span>)        │                   │            │                   │\n",
       "├─────────────────────┼───────────────────┼────────────┼───────────────────┤\n",
       "│ input_layer_27      │ (<span style=\"color: #00d7ff; text-decoration-color: #00d7ff\">None</span>, <span style=\"color: #00af00; text-decoration-color: #00af00\">64</span>)        │          <span style=\"color: #00af00; text-decoration-color: #00af00\">0</span> │ -                 │\n",
       "│ (<span style=\"color: #0087ff; text-decoration-color: #0087ff\">InputLayer</span>)        │                   │            │                   │\n",
       "├─────────────────────┼───────────────────┼────────────┼───────────────────┤\n",
       "│ lstm_20 (<span style=\"color: #0087ff; text-decoration-color: #0087ff\">LSTM</span>)      │ [(<span style=\"color: #00d7ff; text-decoration-color: #00d7ff\">None</span>, <span style=\"color: #00d7ff; text-decoration-color: #00d7ff\">None</span>,     │     <span style=\"color: #00af00; text-decoration-color: #00af00\">49,408</span> │ embedding_16[<span style=\"color: #00af00; text-decoration-color: #00af00\">0</span>][<span style=\"color: #00af00; text-decoration-color: #00af00\">…</span> │\n",
       "│                     │ <span style=\"color: #00af00; text-decoration-color: #00af00\">64</span>), (<span style=\"color: #00d7ff; text-decoration-color: #00d7ff\">None</span>, <span style=\"color: #00af00; text-decoration-color: #00af00\">64</span>),  │            │ input_layer_26[<span style=\"color: #00af00; text-decoration-color: #00af00\">0</span>… │\n",
       "│                     │ (<span style=\"color: #00d7ff; text-decoration-color: #00d7ff\">None</span>, <span style=\"color: #00af00; text-decoration-color: #00af00\">64</span>)]       │            │ input_layer_27[<span style=\"color: #00af00; text-decoration-color: #00af00\">0</span>… │\n",
       "├─────────────────────┼───────────────────┼────────────┼───────────────────┤\n",
       "│ dense_5 (<span style=\"color: #0087ff; text-decoration-color: #0087ff\">Dense</span>)     │ (<span style=\"color: #00d7ff; text-decoration-color: #00d7ff\">None</span>, <span style=\"color: #00d7ff; text-decoration-color: #00d7ff\">None</span>, <span style=\"color: #00af00; text-decoration-color: #00af00\">715</span>) │     <span style=\"color: #00af00; text-decoration-color: #00af00\">46,475</span> │ lstm_20[<span style=\"color: #00af00; text-decoration-color: #00af00\">1</span>][<span style=\"color: #00af00; text-decoration-color: #00af00\">0</span>]     │\n",
       "└─────────────────────┴───────────────────┴────────────┴───────────────────┘\n",
       "</pre>\n"
      ],
      "text/plain": [
       "┏━━━━━━━━━━━━━━━━━━━━━┳━━━━━━━━━━━━━━━━━━━┳━━━━━━━━━━━━┳━━━━━━━━━━━━━━━━━━━┓\n",
       "┃\u001b[1m \u001b[0m\u001b[1mLayer (type)       \u001b[0m\u001b[1m \u001b[0m┃\u001b[1m \u001b[0m\u001b[1mOutput Shape     \u001b[0m\u001b[1m \u001b[0m┃\u001b[1m \u001b[0m\u001b[1m   Param #\u001b[0m\u001b[1m \u001b[0m┃\u001b[1m \u001b[0m\u001b[1mConnected to     \u001b[0m\u001b[1m \u001b[0m┃\n",
       "┡━━━━━━━━━━━━━━━━━━━━━╇━━━━━━━━━━━━━━━━━━━╇━━━━━━━━━━━━╇━━━━━━━━━━━━━━━━━━━┩\n",
       "│ input_layer_25      │ (\u001b[38;5;45mNone\u001b[0m, \u001b[38;5;45mNone\u001b[0m)      │          \u001b[38;5;34m0\u001b[0m │ -                 │\n",
       "│ (\u001b[38;5;33mInputLayer\u001b[0m)        │                   │            │                   │\n",
       "├─────────────────────┼───────────────────┼────────────┼───────────────────┤\n",
       "│ embedding_16        │ (\u001b[38;5;45mNone\u001b[0m, \u001b[38;5;45mNone\u001b[0m, \u001b[38;5;34m128\u001b[0m) │     \u001b[38;5;34m91,520\u001b[0m │ input_layer_25[\u001b[38;5;34m0\u001b[0m… │\n",
       "│ (\u001b[38;5;33mEmbedding\u001b[0m)         │                   │            │                   │\n",
       "├─────────────────────┼───────────────────┼────────────┼───────────────────┤\n",
       "│ input_layer_26      │ (\u001b[38;5;45mNone\u001b[0m, \u001b[38;5;34m64\u001b[0m)        │          \u001b[38;5;34m0\u001b[0m │ -                 │\n",
       "│ (\u001b[38;5;33mInputLayer\u001b[0m)        │                   │            │                   │\n",
       "├─────────────────────┼───────────────────┼────────────┼───────────────────┤\n",
       "│ input_layer_27      │ (\u001b[38;5;45mNone\u001b[0m, \u001b[38;5;34m64\u001b[0m)        │          \u001b[38;5;34m0\u001b[0m │ -                 │\n",
       "│ (\u001b[38;5;33mInputLayer\u001b[0m)        │                   │            │                   │\n",
       "├─────────────────────┼───────────────────┼────────────┼───────────────────┤\n",
       "│ lstm_20 (\u001b[38;5;33mLSTM\u001b[0m)      │ [(\u001b[38;5;45mNone\u001b[0m, \u001b[38;5;45mNone\u001b[0m,     │     \u001b[38;5;34m49,408\u001b[0m │ embedding_16[\u001b[38;5;34m0\u001b[0m][\u001b[38;5;34m…\u001b[0m │\n",
       "│                     │ \u001b[38;5;34m64\u001b[0m), (\u001b[38;5;45mNone\u001b[0m, \u001b[38;5;34m64\u001b[0m),  │            │ input_layer_26[\u001b[38;5;34m0\u001b[0m… │\n",
       "│                     │ (\u001b[38;5;45mNone\u001b[0m, \u001b[38;5;34m64\u001b[0m)]       │            │ input_layer_27[\u001b[38;5;34m0\u001b[0m… │\n",
       "├─────────────────────┼───────────────────┼────────────┼───────────────────┤\n",
       "│ dense_5 (\u001b[38;5;33mDense\u001b[0m)     │ (\u001b[38;5;45mNone\u001b[0m, \u001b[38;5;45mNone\u001b[0m, \u001b[38;5;34m715\u001b[0m) │     \u001b[38;5;34m46,475\u001b[0m │ lstm_20[\u001b[38;5;34m1\u001b[0m][\u001b[38;5;34m0\u001b[0m]     │\n",
       "└─────────────────────┴───────────────────┴────────────┴───────────────────┘\n"
      ]
     },
     "metadata": {},
     "output_type": "display_data"
    },
    {
     "data": {
      "text/html": [
       "<pre style=\"white-space:pre;overflow-x:auto;line-height:normal;font-family:Menlo,'DejaVu Sans Mono',consolas,'Courier New',monospace\"><span style=\"font-weight: bold\"> Total params: </span><span style=\"color: #00af00; text-decoration-color: #00af00\">187,403</span> (732.04 KB)\n",
       "</pre>\n"
      ],
      "text/plain": [
       "\u001b[1m Total params: \u001b[0m\u001b[38;5;34m187,403\u001b[0m (732.04 KB)\n"
      ]
     },
     "metadata": {},
     "output_type": "display_data"
    },
    {
     "data": {
      "text/html": [
       "<pre style=\"white-space:pre;overflow-x:auto;line-height:normal;font-family:Menlo,'DejaVu Sans Mono',consolas,'Courier New',monospace\"><span style=\"font-weight: bold\"> Trainable params: </span><span style=\"color: #00af00; text-decoration-color: #00af00\">187,403</span> (732.04 KB)\n",
       "</pre>\n"
      ],
      "text/plain": [
       "\u001b[1m Trainable params: \u001b[0m\u001b[38;5;34m187,403\u001b[0m (732.04 KB)\n"
      ]
     },
     "metadata": {},
     "output_type": "display_data"
    },
    {
     "data": {
      "text/html": [
       "<pre style=\"white-space:pre;overflow-x:auto;line-height:normal;font-family:Menlo,'DejaVu Sans Mono',consolas,'Courier New',monospace\"><span style=\"font-weight: bold\"> Non-trainable params: </span><span style=\"color: #00af00; text-decoration-color: #00af00\">0</span> (0.00 B)\n",
       "</pre>\n"
      ],
      "text/plain": [
       "\u001b[1m Non-trainable params: \u001b[0m\u001b[38;5;34m0\u001b[0m (0.00 B)\n"
      ]
     },
     "metadata": {},
     "output_type": "display_data"
    }
   ],
   "source": [
    "decoder_models.summary()"
   ]
  },
  {
   "cell_type": "code",
   "execution_count": 170,
   "metadata": {},
   "outputs": [],
   "source": [
    "def sequences(seq_models):\n",
    "    # Tokenisasi dan padding input\n",
    "    pre_predict = tokenize.texts_to_sequences(seq_models)\n",
    "    pre_predict = pad_sequences(pre_predict, maxlen=max_length_data, padding='post')\n",
    "\n",
    "    # Prediksi states dari encoder\n",
    "    states_predicted = Encoder_models.predict(pre_predict)\n",
    "    print(\"Dimensi states_predicted:\", len(states_predicted), len(states_predicted[0]))\n",
    "\n",
    "    run_condition = True\n",
    "    output_tokens = \"\"\n",
    "    token_stop = list()\n",
    "\n",
    "    # Inisialisasi target sequence dengan start token (dimensi batch_size=1, seq_len=1)\n",
    "    target_seq = np.zeros((23,23))\n",
    "    target_seq[0, 0] = 0  # Start token, misalnya 1\n",
    "\n",
    "    print(\"Target sequence awal:\", target_seq)\n",
    "    while run_condition:\n",
    "        outputs, h, c = decoder_models.predict([target_seq] + states_predicted)\n",
    "        sample_token = np.argmax(outputs[0, -1, :])\n",
    "        token_stop.append(sample_token)\n",
    "        for index, value in tokenize.word_index.items():\n",
    "            if index == sample_token:\n",
    "                output_tokens += \" \" + value\n",
    "\n",
    "        if len(token_stop) == max_length_data:\n",
    "            run_condition = False\n",
    "\n",
    "        # Update target sequence dan states untuk langkah berikutnya\n",
    "        target_seq = np.zeros((23,23))\n",
    "        target_seq[0, sample_token] = 0\n",
    "        states_predicted = [h, c]\n",
    "        print(sample_token)\n",
    "\n",
    "    return output_tokens\n",
    "\n",
    "\n"
   ]
  },
  {
   "cell_type": "code",
   "execution_count": 98,
   "metadata": {},
   "outputs": [
    {
     "data": {
      "text/plain": [
       "array([18, 69, 70, 71,  0,  0,  0,  0,  0,  0,  0,  0,  0,  0,  0,  0,  0,\n",
       "        0,  0,  0,  0,  0])"
      ]
     },
     "execution_count": 98,
     "metadata": {},
     "output_type": "execute_result"
    }
   ],
   "source": [
    "X_trains[0]"
   ]
  },
  {
   "cell_type": "code",
   "execution_count": 171,
   "metadata": {},
   "outputs": [
    {
     "name": "stdout",
     "output_type": "stream",
     "text": [
      "\u001b[1m1/1\u001b[0m \u001b[32m━━━━━━━━━━━━━━━━━━━━\u001b[0m\u001b[37m\u001b[0m \u001b[1m0s\u001b[0m 169ms/step\n",
      "Dimensi states_predicted: 2 23\n",
      "Target sequence awal: [[0. 0. 0. 0. 0. 0. 0. 0. 0. 0. 0. 0. 0. 0. 0. 0. 0. 0. 0. 0. 0. 0. 0.]\n",
      " [0. 0. 0. 0. 0. 0. 0. 0. 0. 0. 0. 0. 0. 0. 0. 0. 0. 0. 0. 0. 0. 0. 0.]\n",
      " [0. 0. 0. 0. 0. 0. 0. 0. 0. 0. 0. 0. 0. 0. 0. 0. 0. 0. 0. 0. 0. 0. 0.]\n",
      " [0. 0. 0. 0. 0. 0. 0. 0. 0. 0. 0. 0. 0. 0. 0. 0. 0. 0. 0. 0. 0. 0. 0.]\n",
      " [0. 0. 0. 0. 0. 0. 0. 0. 0. 0. 0. 0. 0. 0. 0. 0. 0. 0. 0. 0. 0. 0. 0.]\n",
      " [0. 0. 0. 0. 0. 0. 0. 0. 0. 0. 0. 0. 0. 0. 0. 0. 0. 0. 0. 0. 0. 0. 0.]\n",
      " [0. 0. 0. 0. 0. 0. 0. 0. 0. 0. 0. 0. 0. 0. 0. 0. 0. 0. 0. 0. 0. 0. 0.]\n",
      " [0. 0. 0. 0. 0. 0. 0. 0. 0. 0. 0. 0. 0. 0. 0. 0. 0. 0. 0. 0. 0. 0. 0.]\n",
      " [0. 0. 0. 0. 0. 0. 0. 0. 0. 0. 0. 0. 0. 0. 0. 0. 0. 0. 0. 0. 0. 0. 0.]\n",
      " [0. 0. 0. 0. 0. 0. 0. 0. 0. 0. 0. 0. 0. 0. 0. 0. 0. 0. 0. 0. 0. 0. 0.]\n",
      " [0. 0. 0. 0. 0. 0. 0. 0. 0. 0. 0. 0. 0. 0. 0. 0. 0. 0. 0. 0. 0. 0. 0.]\n",
      " [0. 0. 0. 0. 0. 0. 0. 0. 0. 0. 0. 0. 0. 0. 0. 0. 0. 0. 0. 0. 0. 0. 0.]\n",
      " [0. 0. 0. 0. 0. 0. 0. 0. 0. 0. 0. 0. 0. 0. 0. 0. 0. 0. 0. 0. 0. 0. 0.]\n",
      " [0. 0. 0. 0. 0. 0. 0. 0. 0. 0. 0. 0. 0. 0. 0. 0. 0. 0. 0. 0. 0. 0. 0.]\n",
      " [0. 0. 0. 0. 0. 0. 0. 0. 0. 0. 0. 0. 0. 0. 0. 0. 0. 0. 0. 0. 0. 0. 0.]\n",
      " [0. 0. 0. 0. 0. 0. 0. 0. 0. 0. 0. 0. 0. 0. 0. 0. 0. 0. 0. 0. 0. 0. 0.]\n",
      " [0. 0. 0. 0. 0. 0. 0. 0. 0. 0. 0. 0. 0. 0. 0. 0. 0. 0. 0. 0. 0. 0. 0.]\n",
      " [0. 0. 0. 0. 0. 0. 0. 0. 0. 0. 0. 0. 0. 0. 0. 0. 0. 0. 0. 0. 0. 0. 0.]\n",
      " [0. 0. 0. 0. 0. 0. 0. 0. 0. 0. 0. 0. 0. 0. 0. 0. 0. 0. 0. 0. 0. 0. 0.]\n",
      " [0. 0. 0. 0. 0. 0. 0. 0. 0. 0. 0. 0. 0. 0. 0. 0. 0. 0. 0. 0. 0. 0. 0.]\n",
      " [0. 0. 0. 0. 0. 0. 0. 0. 0. 0. 0. 0. 0. 0. 0. 0. 0. 0. 0. 0. 0. 0. 0.]\n",
      " [0. 0. 0. 0. 0. 0. 0. 0. 0. 0. 0. 0. 0. 0. 0. 0. 0. 0. 0. 0. 0. 0. 0.]\n",
      " [0. 0. 0. 0. 0. 0. 0. 0. 0. 0. 0. 0. 0. 0. 0. 0. 0. 0. 0. 0. 0. 0. 0.]]\n",
      "\u001b[1m1/1\u001b[0m \u001b[32m━━━━━━━━━━━━━━━━━━━━\u001b[0m\u001b[37m\u001b[0m \u001b[1m0s\u001b[0m 91ms/step\n",
      "0\n",
      "\u001b[1m1/1\u001b[0m \u001b[32m━━━━━━━━━━━━━━━━━━━━\u001b[0m\u001b[37m\u001b[0m \u001b[1m0s\u001b[0m 78ms/step\n",
      "0\n",
      "\u001b[1m1/1\u001b[0m \u001b[32m━━━━━━━━━━━━━━━━━━━━\u001b[0m\u001b[37m\u001b[0m \u001b[1m0s\u001b[0m 122ms/step\n",
      "0\n",
      "\u001b[1m1/1\u001b[0m \u001b[32m━━━━━━━━━━━━━━━━━━━━\u001b[0m\u001b[37m\u001b[0m \u001b[1m0s\u001b[0m 85ms/step\n",
      "0\n",
      "\u001b[1m1/1\u001b[0m \u001b[32m━━━━━━━━━━━━━━━━━━━━\u001b[0m\u001b[37m\u001b[0m \u001b[1m0s\u001b[0m 77ms/step\n",
      "0\n",
      "\u001b[1m1/1\u001b[0m \u001b[32m━━━━━━━━━━━━━━━━━━━━\u001b[0m\u001b[37m\u001b[0m \u001b[1m0s\u001b[0m 101ms/step\n",
      "0\n",
      "\u001b[1m1/1\u001b[0m \u001b[32m━━━━━━━━━━━━━━━━━━━━\u001b[0m\u001b[37m\u001b[0m \u001b[1m0s\u001b[0m 87ms/step\n",
      "0\n",
      "\u001b[1m1/1\u001b[0m \u001b[32m━━━━━━━━━━━━━━━━━━━━\u001b[0m\u001b[37m\u001b[0m \u001b[1m0s\u001b[0m 83ms/step\n",
      "0\n",
      "\u001b[1m1/1\u001b[0m \u001b[32m━━━━━━━━━━━━━━━━━━━━\u001b[0m\u001b[37m\u001b[0m \u001b[1m0s\u001b[0m 81ms/step\n",
      "0\n",
      "\u001b[1m1/1\u001b[0m \u001b[32m━━━━━━━━━━━━━━━━━━━━\u001b[0m\u001b[37m\u001b[0m \u001b[1m0s\u001b[0m 83ms/step\n",
      "0\n",
      "\u001b[1m1/1\u001b[0m \u001b[32m━━━━━━━━━━━━━━━━━━━━\u001b[0m\u001b[37m\u001b[0m \u001b[1m0s\u001b[0m 117ms/step\n",
      "0\n",
      "\u001b[1m1/1\u001b[0m \u001b[32m━━━━━━━━━━━━━━━━━━━━\u001b[0m\u001b[37m\u001b[0m \u001b[1m0s\u001b[0m 86ms/step\n",
      "0\n",
      "\u001b[1m1/1\u001b[0m \u001b[32m━━━━━━━━━━━━━━━━━━━━\u001b[0m\u001b[37m\u001b[0m \u001b[1m0s\u001b[0m 83ms/step\n",
      "0\n",
      "\u001b[1m1/1\u001b[0m \u001b[32m━━━━━━━━━━━━━━━━━━━━\u001b[0m\u001b[37m\u001b[0m \u001b[1m0s\u001b[0m 84ms/step\n",
      "0\n",
      "\u001b[1m1/1\u001b[0m \u001b[32m━━━━━━━━━━━━━━━━━━━━\u001b[0m\u001b[37m\u001b[0m \u001b[1m0s\u001b[0m 81ms/step\n",
      "0\n",
      "\u001b[1m1/1\u001b[0m \u001b[32m━━━━━━━━━━━━━━━━━━━━\u001b[0m\u001b[37m\u001b[0m \u001b[1m0s\u001b[0m 88ms/step\n",
      "0\n",
      "\u001b[1m1/1\u001b[0m \u001b[32m━━━━━━━━━━━━━━━━━━━━\u001b[0m\u001b[37m\u001b[0m \u001b[1m0s\u001b[0m 79ms/step\n",
      "0\n",
      "\u001b[1m1/1\u001b[0m \u001b[32m━━━━━━━━━━━━━━━━━━━━\u001b[0m\u001b[37m\u001b[0m \u001b[1m0s\u001b[0m 90ms/step\n",
      "0\n",
      "\u001b[1m1/1\u001b[0m \u001b[32m━━━━━━━━━━━━━━━━━━━━\u001b[0m\u001b[37m\u001b[0m \u001b[1m0s\u001b[0m 84ms/step\n",
      "0\n",
      "\u001b[1m1/1\u001b[0m \u001b[32m━━━━━━━━━━━━━━━━━━━━\u001b[0m\u001b[37m\u001b[0m \u001b[1m0s\u001b[0m 93ms/step\n",
      "0\n",
      "\u001b[1m1/1\u001b[0m \u001b[32m━━━━━━━━━━━━━━━━━━━━\u001b[0m\u001b[37m\u001b[0m \u001b[1m0s\u001b[0m 98ms/step\n",
      "0\n",
      "\u001b[1m1/1\u001b[0m \u001b[32m━━━━━━━━━━━━━━━━━━━━\u001b[0m\u001b[37m\u001b[0m \u001b[1m0s\u001b[0m 92ms/step\n",
      "0\n"
     ]
    }
   ],
   "source": [
    "data1 = sequences(\"Kamu suka Kopi apa teh?\")"
   ]
  },
  {
   "cell_type": "code",
   "execution_count": 177,
   "metadata": {},
   "outputs": [],
   "source": [
    "def sequencess(seq_models):\n",
    "    # Tokenisasi dan padding input\n",
    "    pre_predict = tokenize.texts_to_sequences(seq_models)\n",
    "    pre_predict = pad_sequences(pre_predict, maxlen=max_length_data, padding='post')\n",
    "\n",
    "    # Prediksi states dari encoder\n",
    "    states_predicted = Encoder_models.predict(pre_predict)\n",
    "    print(\"Dimensi states_predicted:\", len(states_predicted), len(states_predicted[0]))\n",
    "\n",
    "    run_condition = True\n",
    "    output_tokens = \"\"\n",
    "    token_stop = list()\n",
    "\n",
    "    # Inisialisasi target sequence dengan start token (dimensi batch_size=1, seq_len=1)\n",
    "    target_seq = np.zeros((24, 1))  # Batch size=1 dan seq_len=1 pada langkah pertama\n",
    "    target_seq[0, 0] = 1  # Misalnya 1 adalah start token\n",
    "\n",
    "    print(\"Target sequence awal:\", target_seq)\n",
    "\n",
    "    while run_condition:\n",
    "        # Prediksi output dari decoder\n",
    "        # Pastikan input ke decoder sesuai: [target_seq] + states_predicted\n",
    "        outputs, h, c = decoder_models.predict([target_seq] + states_predicted)\n",
    "        \n",
    "        # Ambil token yang diprediksi\n",
    "        sample_token = np.argmax(outputs[0, -1, :])\n",
    "\n",
    "        # Tambahkan token yang diprediksi ke output\n",
    "        token_stop.append(sample_token)\n",
    "\n",
    "        # Mengubah token menjadi kata berdasarkan word_index\n",
    "        for index, value in tokenize.word_index.items():\n",
    "            if index == sample_token:\n",
    "                output_tokens += \" \" + value\n",
    "\n",
    "        # Jika panjang token yang diprediksi mencapai batas, keluar dari loop\n",
    "        if len(token_stop) == max_length_data:\n",
    "            run_condition = False\n",
    "\n",
    "        # Perbarui target_seq untuk langkah berikutnya\n",
    "        target_seq = np.zeros((24, 1))  # Update ke dimensi (1, 1) setiap langkah\n",
    "        target_seq[0, 0] = sample_token  # Token berikutnya yang dipilih\n",
    "\n",
    "        # Perbarui states_predicted dengan hidden dan cell states untuk langkah berikutnya\n",
    "        states_predicted = [h, c]\n",
    "        print(\"Sample token:\", sample_token)\n",
    "\n",
    "    return output_tokens\n",
    "\n"
   ]
  },
  {
   "cell_type": "code",
   "execution_count": 178,
   "metadata": {},
   "outputs": [
    {
     "name": "stdout",
     "output_type": "stream",
     "text": [
      "\u001b[1m1/1\u001b[0m \u001b[32m━━━━━━━━━━━━━━━━━━━━\u001b[0m\u001b[37m\u001b[0m \u001b[1m0s\u001b[0m 96ms/step\n",
      "Dimensi states_predicted: 2 24\n",
      "Target sequence awal: [[1.]\n",
      " [0.]\n",
      " [0.]\n",
      " [0.]\n",
      " [0.]\n",
      " [0.]\n",
      " [0.]\n",
      " [0.]\n",
      " [0.]\n",
      " [0.]\n",
      " [0.]\n",
      " [0.]\n",
      " [0.]\n",
      " [0.]\n",
      " [0.]\n",
      " [0.]\n",
      " [0.]\n",
      " [0.]\n",
      " [0.]\n",
      " [0.]\n",
      " [0.]\n",
      " [0.]\n",
      " [0.]\n",
      " [0.]]\n",
      "\u001b[1m1/1\u001b[0m \u001b[32m━━━━━━━━━━━━━━━━━━━━\u001b[0m\u001b[37m\u001b[0m \u001b[1m1s\u001b[0m 501ms/step\n",
      "Sample token: 1\n",
      "\u001b[1m1/1\u001b[0m \u001b[32m━━━━━━━━━━━━━━━━━━━━\u001b[0m\u001b[37m\u001b[0m \u001b[1m0s\u001b[0m 89ms/step\n",
      "Sample token: 1\n",
      "\u001b[1m1/1\u001b[0m \u001b[32m━━━━━━━━━━━━━━━━━━━━\u001b[0m\u001b[37m\u001b[0m \u001b[1m0s\u001b[0m 95ms/step\n",
      "Sample token: 1\n",
      "\u001b[1m1/1\u001b[0m \u001b[32m━━━━━━━━━━━━━━━━━━━━\u001b[0m\u001b[37m\u001b[0m \u001b[1m0s\u001b[0m 78ms/step\n",
      "Sample token: 1\n",
      "\u001b[1m1/1\u001b[0m \u001b[32m━━━━━━━━━━━━━━━━━━━━\u001b[0m\u001b[37m\u001b[0m \u001b[1m0s\u001b[0m 82ms/step\n",
      "Sample token: 1\n",
      "\u001b[1m1/1\u001b[0m \u001b[32m━━━━━━━━━━━━━━━━━━━━\u001b[0m\u001b[37m\u001b[0m \u001b[1m0s\u001b[0m 75ms/step\n",
      "Sample token: 1\n",
      "\u001b[1m1/1\u001b[0m \u001b[32m━━━━━━━━━━━━━━━━━━━━\u001b[0m\u001b[37m\u001b[0m \u001b[1m0s\u001b[0m 81ms/step\n",
      "Sample token: 1\n",
      "\u001b[1m1/1\u001b[0m \u001b[32m━━━━━━━━━━━━━━━━━━━━\u001b[0m\u001b[37m\u001b[0m \u001b[1m0s\u001b[0m 77ms/step\n",
      "Sample token: 1\n",
      "\u001b[1m1/1\u001b[0m \u001b[32m━━━━━━━━━━━━━━━━━━━━\u001b[0m\u001b[37m\u001b[0m \u001b[1m0s\u001b[0m 77ms/step\n",
      "Sample token: 1\n",
      "\u001b[1m1/1\u001b[0m \u001b[32m━━━━━━━━━━━━━━━━━━━━\u001b[0m\u001b[37m\u001b[0m \u001b[1m0s\u001b[0m 83ms/step\n",
      "Sample token: 1\n",
      "\u001b[1m1/1\u001b[0m \u001b[32m━━━━━━━━━━━━━━━━━━━━\u001b[0m\u001b[37m\u001b[0m \u001b[1m0s\u001b[0m 81ms/step\n",
      "Sample token: 1\n",
      "\u001b[1m1/1\u001b[0m \u001b[32m━━━━━━━━━━━━━━━━━━━━\u001b[0m\u001b[37m\u001b[0m \u001b[1m0s\u001b[0m 80ms/step\n",
      "Sample token: 1\n",
      "\u001b[1m1/1\u001b[0m \u001b[32m━━━━━━━━━━━━━━━━━━━━\u001b[0m\u001b[37m\u001b[0m \u001b[1m0s\u001b[0m 78ms/step\n",
      "Sample token: 1\n",
      "\u001b[1m1/1\u001b[0m \u001b[32m━━━━━━━━━━━━━━━━━━━━\u001b[0m\u001b[37m\u001b[0m \u001b[1m0s\u001b[0m 78ms/step\n",
      "Sample token: 1\n",
      "\u001b[1m1/1\u001b[0m \u001b[32m━━━━━━━━━━━━━━━━━━━━\u001b[0m\u001b[37m\u001b[0m \u001b[1m0s\u001b[0m 75ms/step\n",
      "Sample token: 1\n",
      "\u001b[1m1/1\u001b[0m \u001b[32m━━━━━━━━━━━━━━━━━━━━\u001b[0m\u001b[37m\u001b[0m \u001b[1m0s\u001b[0m 106ms/step\n",
      "Sample token: 1\n",
      "\u001b[1m1/1\u001b[0m \u001b[32m━━━━━━━━━━━━━━━━━━━━\u001b[0m\u001b[37m\u001b[0m \u001b[1m0s\u001b[0m 74ms/step\n",
      "Sample token: 1\n",
      "\u001b[1m1/1\u001b[0m \u001b[32m━━━━━━━━━━━━━━━━━━━━\u001b[0m\u001b[37m\u001b[0m \u001b[1m0s\u001b[0m 74ms/step\n",
      "Sample token: 1\n",
      "\u001b[1m1/1\u001b[0m \u001b[32m━━━━━━━━━━━━━━━━━━━━\u001b[0m\u001b[37m\u001b[0m \u001b[1m0s\u001b[0m 84ms/step\n",
      "Sample token: 1\n",
      "\u001b[1m1/1\u001b[0m \u001b[32m━━━━━━━━━━━━━━━━━━━━\u001b[0m\u001b[37m\u001b[0m \u001b[1m0s\u001b[0m 79ms/step\n",
      "Sample token: 1\n",
      "\u001b[1m1/1\u001b[0m \u001b[32m━━━━━━━━━━━━━━━━━━━━\u001b[0m\u001b[37m\u001b[0m \u001b[1m0s\u001b[0m 74ms/step\n",
      "Sample token: 1\n",
      "\u001b[1m1/1\u001b[0m \u001b[32m━━━━━━━━━━━━━━━━━━━━\u001b[0m\u001b[37m\u001b[0m \u001b[1m0s\u001b[0m 74ms/step\n",
      "Sample token: 1\n"
     ]
    },
    {
     "data": {
      "text/plain": [
       "''"
      ]
     },
     "execution_count": 178,
     "metadata": {},
     "output_type": "execute_result"
    }
   ],
   "source": [
    "sequencess(\"kamu suka kopi apa teh ?\")"
   ]
  }
 ],
 "metadata": {
  "kernelspec": {
   "display_name": "Python 3",
   "language": "python",
   "name": "python3"
  },
  "language_info": {
   "codemirror_mode": {
    "name": "ipython",
    "version": 3
   },
   "file_extension": ".py",
   "mimetype": "text/x-python",
   "name": "python",
   "nbconvert_exporter": "python",
   "pygments_lexer": "ipython3",
   "version": "3.12.7"
  }
 },
 "nbformat": 4,
 "nbformat_minor": 2
}
