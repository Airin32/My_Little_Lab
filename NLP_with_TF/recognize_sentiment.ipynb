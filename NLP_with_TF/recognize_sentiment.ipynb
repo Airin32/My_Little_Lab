{
 "cells": [
  {
   "cell_type": "code",
   "execution_count": 40,
   "metadata": {},
   "outputs": [],
   "source": [
    "import json\n",
    "import numpy as np"
   ]
  },
  {
   "cell_type": "code",
   "execution_count": 2,
   "metadata": {},
   "outputs": [],
   "source": [
    "data = []\n",
    "with open (\"C://Users/ASUS/Documents/Kognitiff_neuron_project/NLP_with_TF/Sarcasm_Headlines_Dataset.json\",'r') as f:\n",
    "    for line in f :\n",
    "        data.append(json.loads(line))"
   ]
  },
  {
   "cell_type": "code",
   "execution_count": 4,
   "metadata": {},
   "outputs": [],
   "source": [
    "sentences = []\n",
    "labels = []\n",
    "url = []\n",
    "for i in data :\n",
    "    sentences.append(i['headline'])\n",
    "    labels.append(i['is_sarcastic'])\n",
    "    url.append(i['article_link'])"
   ]
  },
  {
   "cell_type": "code",
   "execution_count": 7,
   "metadata": {},
   "outputs": [],
   "source": [
    "import tensorflow as tf\n",
    "from tensorflow.keras.preprocessing.text import Tokenizer"
   ]
  },
  {
   "cell_type": "code",
   "execution_count": 8,
   "metadata": {},
   "outputs": [],
   "source": [
    "from tensorflow.keras.preprocessing.sequence import pad_sequences"
   ]
  },
  {
   "cell_type": "code",
   "execution_count": 9,
   "metadata": {},
   "outputs": [],
   "source": [
    "tokenizer = Tokenizer(num_words=2000,oov_token='<OOV>')\n",
    "tokenizer.fit_on_texts(sentences)"
   ]
  },
  {
   "cell_type": "code",
   "execution_count": 14,
   "metadata": {},
   "outputs": [],
   "source": [
    "word_index = tokenizer.word_index\n",
    "sequences = tokenizer.texts_to_sequences(sentences)\n"
   ]
  },
  {
   "cell_type": "code",
   "execution_count": 16,
   "metadata": {},
   "outputs": [],
   "source": [
    "padding = pad_sequences(sequences,maxlen=40,truncating='post',padding='post')"
   ]
  },
  {
   "cell_type": "code",
   "execution_count": 22,
   "metadata": {},
   "outputs": [],
   "source": [
    "training_sequences = sequences[:1000]\n",
    "testing_sequences = sequences[200:]\n",
    "training_labels = labels[:1000]\n",
    "testing_labels = labels[200:]"
   ]
  },
  {
   "cell_type": "code",
   "execution_count": 26,
   "metadata": {},
   "outputs": [],
   "source": [
    "vocab_size = len(word_index) + 1\n"
   ]
  },
  {
   "cell_type": "code",
   "execution_count": 36,
   "metadata": {},
   "outputs": [],
   "source": [
    "training_padding = pad_sequences(training_sequences,maxlen=40,padding='post',truncating='post')\n",
    "testing_padding = pad_sequences(testing_sequences,maxlen=40,padding='post',truncating='post')"
   ]
  },
  {
   "cell_type": "code",
   "execution_count": 34,
   "metadata": {},
   "outputs": [],
   "source": [
    "model = tf.keras.Sequential()\n",
    "model.add(tf.keras.layers.Embedding(input_dim=vocab_size,output_dim=64,input_length = 40))\n",
    "model.add(tf.keras.layers.GlobalAveragePooling1D())\n",
    "model.add(tf.keras.layers.Dense(64,activation='relu'))\n",
    "model.add(tf.keras.layers.Dense(32,activation='relu'))\n",
    "model.add(tf.keras.layers.Dense(1,activation='sigmoid'))"
   ]
  },
  {
   "cell_type": "code",
   "execution_count": 35,
   "metadata": {},
   "outputs": [],
   "source": [
    "model.compile(loss='binary_crossentropy',optimizer='adam',metrics=['accuracy'])"
   ]
  },
  {
   "cell_type": "code",
   "execution_count": 41,
   "metadata": {},
   "outputs": [],
   "source": [
    "training_padding = np.array(training_padding)\n",
    "training_labels = np.array(training_labels)"
   ]
  },
  {
   "cell_type": "code",
   "execution_count": 45,
   "metadata": {},
   "outputs": [
    {
     "name": "stdout",
     "output_type": "stream",
     "text": [
      "Epoch 1/20\n",
      "32/32 - 1s - 19ms/step - accuracy: 0.9230 - loss: 0.2049\n",
      "Epoch 2/20\n",
      "32/32 - 1s - 17ms/step - accuracy: 0.9290 - loss: 0.1848\n",
      "Epoch 3/20\n",
      "32/32 - 1s - 18ms/step - accuracy: 0.9220 - loss: 0.2043\n",
      "Epoch 4/20\n",
      "32/32 - 1s - 18ms/step - accuracy: 0.9460 - loss: 0.1603\n",
      "Epoch 5/20\n",
      "32/32 - 1s - 24ms/step - accuracy: 0.9390 - loss: 0.1485\n",
      "Epoch 6/20\n",
      "32/32 - 1s - 16ms/step - accuracy: 0.9510 - loss: 0.1310\n",
      "Epoch 7/20\n",
      "32/32 - 1s - 17ms/step - accuracy: 0.9160 - loss: 0.1981\n",
      "Epoch 8/20\n",
      "32/32 - 1s - 16ms/step - accuracy: 0.9570 - loss: 0.1346\n",
      "Epoch 9/20\n",
      "32/32 - 1s - 18ms/step - accuracy: 0.9590 - loss: 0.1145\n",
      "Epoch 10/20\n",
      "32/32 - 1s - 17ms/step - accuracy: 0.9760 - loss: 0.0812\n",
      "Epoch 11/20\n",
      "32/32 - 1s - 20ms/step - accuracy: 0.9680 - loss: 0.0991\n",
      "Epoch 12/20\n",
      "32/32 - 1s - 18ms/step - accuracy: 0.9770 - loss: 0.0775\n",
      "Epoch 13/20\n",
      "32/32 - 1s - 17ms/step - accuracy: 0.9670 - loss: 0.0820\n",
      "Epoch 14/20\n",
      "32/32 - 1s - 19ms/step - accuracy: 0.9790 - loss: 0.0714\n",
      "Epoch 15/20\n",
      "32/32 - 1s - 18ms/step - accuracy: 0.9850 - loss: 0.0564\n",
      "Epoch 16/20\n",
      "32/32 - 1s - 18ms/step - accuracy: 0.9730 - loss: 0.0755\n",
      "Epoch 17/20\n",
      "32/32 - 1s - 21ms/step - accuracy: 0.9870 - loss: 0.0509\n",
      "Epoch 18/20\n",
      "32/32 - 1s - 18ms/step - accuracy: 0.9800 - loss: 0.0597\n",
      "Epoch 19/20\n",
      "32/32 - 1s - 23ms/step - accuracy: 0.9870 - loss: 0.0477\n",
      "Epoch 20/20\n",
      "32/32 - 1s - 17ms/step - accuracy: 0.9820 - loss: 0.0587\n"
     ]
    },
    {
     "data": {
      "text/plain": [
       "<keras.src.callbacks.history.History at 0x2850a4f9940>"
      ]
     },
     "execution_count": 45,
     "metadata": {},
     "output_type": "execute_result"
    }
   ],
   "source": [
    "model.fit(training_padding,training_labels,verbose=2,epochs=20)"
   ]
  },
  {
   "cell_type": "code",
   "execution_count": 43,
   "metadata": {},
   "outputs": [],
   "source": [
    "testing_padding = np.array(testing_padding)\n",
    "testing_labels = np.array(testing_labels)"
   ]
  },
  {
   "cell_type": "code",
   "execution_count": 46,
   "metadata": {},
   "outputs": [
    {
     "name": "stdout",
     "output_type": "stream",
     "text": [
      "804/804 - 1s - 2ms/step - accuracy: 0.7427 - loss: 0.8303\n"
     ]
    },
    {
     "data": {
      "text/plain": [
       "[0.8303069472312927, 0.7426581978797913]"
      ]
     },
     "execution_count": 46,
     "metadata": {},
     "output_type": "execute_result"
    }
   ],
   "source": [
    "model.evaluate(testing_padding,testing_labels,verbose=2)"
   ]
  },
  {
   "cell_type": "code",
   "execution_count": 71,
   "metadata": {},
   "outputs": [],
   "source": [
    "Sentence_testing = [\"My starting to fear spiders in the garden might be real\",\n",
    "                    \"the weather today is bright and sunny\",\n",
    "                    \"My girlfriend is so stupid\",\n",
    "                    \"i love my girlfriend she so cute\",\n",
    "                    \"the man kill so many dogs, its so dangerous\"]"
   ]
  },
  {
   "cell_type": "code",
   "execution_count": 72,
   "metadata": {},
   "outputs": [],
   "source": [
    "sequences = tokenizer.texts_to_sequences(Sentence_testing)"
   ]
  },
  {
   "cell_type": "code",
   "execution_count": 73,
   "metadata": {},
   "outputs": [],
   "source": [
    "predict_target = pad_sequences(sequences,padding='post',truncating='post',maxlen=40)"
   ]
  },
  {
   "cell_type": "code",
   "execution_count": 74,
   "metadata": {},
   "outputs": [
    {
     "name": "stdout",
     "output_type": "stream",
     "text": [
      "\u001b[1m1/1\u001b[0m \u001b[32m━━━━━━━━━━━━━━━━━━━━\u001b[0m\u001b[37m\u001b[0m \u001b[1m0s\u001b[0m 35ms/step\n"
     ]
    },
    {
     "data": {
      "text/plain": [
       "array([[0.00114902],\n",
       "       [0.06768226],\n",
       "       [0.79011226],\n",
       "       [0.07010821],\n",
       "       [0.33855283]], dtype=float32)"
      ]
     },
     "execution_count": 74,
     "metadata": {},
     "output_type": "execute_result"
    }
   ],
   "source": [
    "model.predict(predict_target)"
   ]
  }
 ],
 "metadata": {
  "kernelspec": {
   "display_name": "Python 3",
   "language": "python",
   "name": "python3"
  },
  "language_info": {
   "codemirror_mode": {
    "name": "ipython",
    "version": 3
   },
   "file_extension": ".py",
   "mimetype": "text/x-python",
   "name": "python",
   "nbconvert_exporter": "python",
   "pygments_lexer": "ipython3",
   "version": "3.12.7"
  }
 },
 "nbformat": 4,
 "nbformat_minor": 2
}
